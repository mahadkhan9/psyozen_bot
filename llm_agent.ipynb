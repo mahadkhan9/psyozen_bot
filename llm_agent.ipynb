{
  "cells": [
    {
      "cell_type": "code",
      "execution_count": null,
      "metadata": {
        "colab": {
          "base_uri": "https://localhost:8080/"
        },
        "id": "NoupPO6Uhyx3",
        "outputId": "0cdcbe3c-84b3-46b0-df6f-2b9ecddc2b81"
      },
      "outputs": [
        {
          "output_type": "stream",
          "name": "stdout",
          "text": [
            "Collecting langchain\n",
            "  Downloading langchain-0.2.14-py3-none-any.whl.metadata (7.1 kB)\n",
            "Collecting openai\n",
            "  Downloading openai-1.41.0-py3-none-any.whl.metadata (22 kB)\n",
            "Collecting langgraph\n",
            "  Downloading langgraph-0.2.4-py3-none-any.whl.metadata (13 kB)\n",
            "Collecting langsmith\n",
            "  Downloading langsmith-0.1.99-py3-none-any.whl.metadata (13 kB)\n",
            "Requirement already satisfied: PyYAML>=5.3 in /usr/local/lib/python3.10/dist-packages (from langchain) (6.0.2)\n",
            "Requirement already satisfied: SQLAlchemy<3,>=1.4 in /usr/local/lib/python3.10/dist-packages (from langchain) (2.0.32)\n",
            "Requirement already satisfied: aiohttp<4.0.0,>=3.8.3 in /usr/local/lib/python3.10/dist-packages (from langchain) (3.10.3)\n",
            "Requirement already satisfied: async-timeout<5.0.0,>=4.0.0 in /usr/local/lib/python3.10/dist-packages (from langchain) (4.0.3)\n",
            "Collecting langchain-core<0.3.0,>=0.2.32 (from langchain)\n",
            "  Downloading langchain_core-0.2.33-py3-none-any.whl.metadata (6.2 kB)\n",
            "Collecting langchain-text-splitters<0.3.0,>=0.2.0 (from langchain)\n",
            "  Downloading langchain_text_splitters-0.2.2-py3-none-any.whl.metadata (2.1 kB)\n",
            "Requirement already satisfied: numpy<2,>=1 in /usr/local/lib/python3.10/dist-packages (from langchain) (1.26.4)\n",
            "Requirement already satisfied: pydantic<3,>=1 in /usr/local/lib/python3.10/dist-packages (from langchain) (2.8.2)\n",
            "Requirement already satisfied: requests<3,>=2 in /usr/local/lib/python3.10/dist-packages (from langchain) (2.32.3)\n",
            "Collecting tenacity!=8.4.0,<9.0.0,>=8.1.0 (from langchain)\n",
            "  Downloading tenacity-8.5.0-py3-none-any.whl.metadata (1.2 kB)\n",
            "Requirement already satisfied: anyio<5,>=3.5.0 in /usr/local/lib/python3.10/dist-packages (from openai) (3.7.1)\n",
            "Requirement already satisfied: distro<2,>=1.7.0 in /usr/lib/python3/dist-packages (from openai) (1.7.0)\n",
            "Collecting httpx<1,>=0.23.0 (from openai)\n",
            "  Downloading httpx-0.27.0-py3-none-any.whl.metadata (7.2 kB)\n",
            "Collecting jiter<1,>=0.4.0 (from openai)\n",
            "  Downloading jiter-0.5.0-cp310-cp310-manylinux_2_17_x86_64.manylinux2014_x86_64.whl.metadata (3.6 kB)\n",
            "Requirement already satisfied: sniffio in /usr/local/lib/python3.10/dist-packages (from openai) (1.3.1)\n",
            "Requirement already satisfied: tqdm>4 in /usr/local/lib/python3.10/dist-packages (from openai) (4.66.5)\n",
            "Requirement already satisfied: typing-extensions<5,>=4.11 in /usr/local/lib/python3.10/dist-packages (from openai) (4.12.2)\n",
            "Collecting langgraph-checkpoint<2.0.0,>=1.0.2 (from langgraph)\n",
            "  Downloading langgraph_checkpoint-1.0.3-py3-none-any.whl.metadata (4.6 kB)\n",
            "Collecting orjson<4.0.0,>=3.9.14 (from langsmith)\n",
            "  Downloading orjson-3.10.7-cp310-cp310-manylinux_2_17_x86_64.manylinux2014_x86_64.whl.metadata (50 kB)\n",
            "\u001b[2K     \u001b[90m━━━━━━━━━━━━━━━━━━━━━━━━━━━━━━━━━━━━━━━━\u001b[0m \u001b[32m50.4/50.4 kB\u001b[0m \u001b[31m1.3 MB/s\u001b[0m eta \u001b[36m0:00:00\u001b[0m\n",
            "\u001b[?25hRequirement already satisfied: aiohappyeyeballs>=2.3.0 in /usr/local/lib/python3.10/dist-packages (from aiohttp<4.0.0,>=3.8.3->langchain) (2.3.5)\n",
            "Requirement already satisfied: aiosignal>=1.1.2 in /usr/local/lib/python3.10/dist-packages (from aiohttp<4.0.0,>=3.8.3->langchain) (1.3.1)\n",
            "Requirement already satisfied: attrs>=17.3.0 in /usr/local/lib/python3.10/dist-packages (from aiohttp<4.0.0,>=3.8.3->langchain) (24.2.0)\n",
            "Requirement already satisfied: frozenlist>=1.1.1 in /usr/local/lib/python3.10/dist-packages (from aiohttp<4.0.0,>=3.8.3->langchain) (1.4.1)\n",
            "Requirement already satisfied: multidict<7.0,>=4.5 in /usr/local/lib/python3.10/dist-packages (from aiohttp<4.0.0,>=3.8.3->langchain) (6.0.5)\n",
            "Requirement already satisfied: yarl<2.0,>=1.0 in /usr/local/lib/python3.10/dist-packages (from aiohttp<4.0.0,>=3.8.3->langchain) (1.9.4)\n",
            "Requirement already satisfied: idna>=2.8 in /usr/local/lib/python3.10/dist-packages (from anyio<5,>=3.5.0->openai) (3.7)\n",
            "Requirement already satisfied: exceptiongroup in /usr/local/lib/python3.10/dist-packages (from anyio<5,>=3.5.0->openai) (1.2.2)\n",
            "Requirement already satisfied: certifi in /usr/local/lib/python3.10/dist-packages (from httpx<1,>=0.23.0->openai) (2024.7.4)\n",
            "Collecting httpcore==1.* (from httpx<1,>=0.23.0->openai)\n",
            "  Downloading httpcore-1.0.5-py3-none-any.whl.metadata (20 kB)\n",
            "Collecting h11<0.15,>=0.13 (from httpcore==1.*->httpx<1,>=0.23.0->openai)\n",
            "  Downloading h11-0.14.0-py3-none-any.whl.metadata (8.2 kB)\n",
            "Collecting jsonpatch<2.0,>=1.33 (from langchain-core<0.3.0,>=0.2.32->langchain)\n",
            "  Downloading jsonpatch-1.33-py2.py3-none-any.whl.metadata (3.0 kB)\n",
            "Requirement already satisfied: packaging<25,>=23.2 in /usr/local/lib/python3.10/dist-packages (from langchain-core<0.3.0,>=0.2.32->langchain) (24.1)\n",
            "Requirement already satisfied: annotated-types>=0.4.0 in /usr/local/lib/python3.10/dist-packages (from pydantic<3,>=1->langchain) (0.7.0)\n",
            "Requirement already satisfied: pydantic-core==2.20.1 in /usr/local/lib/python3.10/dist-packages (from pydantic<3,>=1->langchain) (2.20.1)\n",
            "Requirement already satisfied: charset-normalizer<4,>=2 in /usr/local/lib/python3.10/dist-packages (from requests<3,>=2->langchain) (3.3.2)\n",
            "Requirement already satisfied: urllib3<3,>=1.21.1 in /usr/local/lib/python3.10/dist-packages (from requests<3,>=2->langchain) (2.0.7)\n",
            "Requirement already satisfied: greenlet!=0.4.17 in /usr/local/lib/python3.10/dist-packages (from SQLAlchemy<3,>=1.4->langchain) (3.0.3)\n",
            "Collecting jsonpointer>=1.9 (from jsonpatch<2.0,>=1.33->langchain-core<0.3.0,>=0.2.32->langchain)\n",
            "  Downloading jsonpointer-3.0.0-py2.py3-none-any.whl.metadata (2.3 kB)\n",
            "Downloading langchain-0.2.14-py3-none-any.whl (997 kB)\n",
            "\u001b[2K   \u001b[90m━━━━━━━━━━━━━━━━━━━━━━━━━━━━━━━━━━━━━━━━\u001b[0m \u001b[32m997.8/997.8 kB\u001b[0m \u001b[31m16.8 MB/s\u001b[0m eta \u001b[36m0:00:00\u001b[0m\n",
            "\u001b[?25hDownloading openai-1.41.0-py3-none-any.whl (362 kB)\n",
            "\u001b[2K   \u001b[90m━━━━━━━━━━━━━━━━━━━━━━━━━━━━━━━━━━━━━━━━\u001b[0m \u001b[32m362.4/362.4 kB\u001b[0m \u001b[31m14.6 MB/s\u001b[0m eta \u001b[36m0:00:00\u001b[0m\n",
            "\u001b[?25hDownloading langgraph-0.2.4-py3-none-any.whl (81 kB)\n",
            "\u001b[2K   \u001b[90m━━━━━━━━━━━━━━━━━━━━━━━━━━━━━━━━━━━━━━━━\u001b[0m \u001b[32m81.8/81.8 kB\u001b[0m \u001b[31m4.7 MB/s\u001b[0m eta \u001b[36m0:00:00\u001b[0m\n",
            "\u001b[?25hDownloading langsmith-0.1.99-py3-none-any.whl (140 kB)\n",
            "\u001b[2K   \u001b[90m━━━━━━━━━━━━━━━━━━━━━━━━━━━━━━━━━━━━━━━━\u001b[0m \u001b[32m140.4/140.4 kB\u001b[0m \u001b[31m6.8 MB/s\u001b[0m eta \u001b[36m0:00:00\u001b[0m\n",
            "\u001b[?25hDownloading httpx-0.27.0-py3-none-any.whl (75 kB)\n",
            "\u001b[2K   \u001b[90m━━━━━━━━━━━━━━━━━━━━━━━━━━━━━━━━━━━━━━━━\u001b[0m \u001b[32m75.6/75.6 kB\u001b[0m \u001b[31m3.7 MB/s\u001b[0m eta \u001b[36m0:00:00\u001b[0m\n",
            "\u001b[?25hDownloading httpcore-1.0.5-py3-none-any.whl (77 kB)\n",
            "\u001b[2K   \u001b[90m━━━━━━━━━━━━━━━━━━━━━━━━━━━━━━━━━━━━━━━━\u001b[0m \u001b[32m77.9/77.9 kB\u001b[0m \u001b[31m3.2 MB/s\u001b[0m eta \u001b[36m0:00:00\u001b[0m\n",
            "\u001b[?25hDownloading jiter-0.5.0-cp310-cp310-manylinux_2_17_x86_64.manylinux2014_x86_64.whl (318 kB)\n",
            "\u001b[2K   \u001b[90m━━━━━━━━━━━━━━━━━━━━━━━━━━━━━━━━━━━━━━━━\u001b[0m \u001b[32m318.9/318.9 kB\u001b[0m \u001b[31m16.1 MB/s\u001b[0m eta \u001b[36m0:00:00\u001b[0m\n",
            "\u001b[?25hDownloading langchain_core-0.2.33-py3-none-any.whl (391 kB)\n",
            "\u001b[2K   \u001b[90m━━━━━━━━━━━━━━━━━━━━━━━━━━━━━━━━━━━━━━━━\u001b[0m \u001b[32m391.5/391.5 kB\u001b[0m \u001b[31m20.6 MB/s\u001b[0m eta \u001b[36m0:00:00\u001b[0m\n",
            "\u001b[?25hDownloading langchain_text_splitters-0.2.2-py3-none-any.whl (25 kB)\n",
            "Downloading langgraph_checkpoint-1.0.3-py3-none-any.whl (15 kB)\n",
            "Downloading orjson-3.10.7-cp310-cp310-manylinux_2_17_x86_64.manylinux2014_x86_64.whl (141 kB)\n",
            "\u001b[2K   \u001b[90m━━━━━━━━━━━━━━━━━━━━━━━━━━━━━━━━━━━━━━━━\u001b[0m \u001b[32m141.9/141.9 kB\u001b[0m \u001b[31m7.8 MB/s\u001b[0m eta \u001b[36m0:00:00\u001b[0m\n",
            "\u001b[?25hDownloading tenacity-8.5.0-py3-none-any.whl (28 kB)\n",
            "Downloading jsonpatch-1.33-py2.py3-none-any.whl (12 kB)\n",
            "Downloading h11-0.14.0-py3-none-any.whl (58 kB)\n",
            "\u001b[2K   \u001b[90m━━━━━━━━━━━━━━━━━━━━━━━━━━━━━━━━━━━━━━━━\u001b[0m \u001b[32m58.3/58.3 kB\u001b[0m \u001b[31m2.5 MB/s\u001b[0m eta \u001b[36m0:00:00\u001b[0m\n",
            "\u001b[?25hDownloading jsonpointer-3.0.0-py2.py3-none-any.whl (7.6 kB)\n",
            "Installing collected packages: tenacity, orjson, jsonpointer, jiter, h11, jsonpatch, httpcore, langsmith, httpx, openai, langchain-core, langgraph-checkpoint, langchain-text-splitters, langgraph, langchain\n",
            "  Attempting uninstall: tenacity\n",
            "    Found existing installation: tenacity 9.0.0\n",
            "    Uninstalling tenacity-9.0.0:\n",
            "      Successfully uninstalled tenacity-9.0.0\n",
            "Successfully installed h11-0.14.0 httpcore-1.0.5 httpx-0.27.0 jiter-0.5.0 jsonpatch-1.33 jsonpointer-3.0.0 langchain-0.2.14 langchain-core-0.2.33 langchain-text-splitters-0.2.2 langgraph-0.2.4 langgraph-checkpoint-1.0.3 langsmith-0.1.99 openai-1.41.0 orjson-3.10.7 tenacity-8.5.0\n",
            "Collecting python-dotenv\n",
            "  Downloading python_dotenv-1.0.1-py3-none-any.whl.metadata (23 kB)\n",
            "Downloading python_dotenv-1.0.1-py3-none-any.whl (19 kB)\n",
            "Installing collected packages: python-dotenv\n",
            "Successfully installed python-dotenv-1.0.1\n",
            "\u001b[31mERROR: Could not find a version that satisfies the requirement langchain.llms (from versions: none)\u001b[0m\u001b[31m\n",
            "\u001b[0m\u001b[31mERROR: No matching distribution found for langchain.llms\u001b[0m\u001b[31m\n",
            "\u001b[0m\u001b[31mERROR: Could not find a version that satisfies the requirement langchain.prompts (from versions: none)\u001b[0m\u001b[31m\n",
            "\u001b[0m\u001b[31mERROR: No matching distribution found for langchain.prompts\u001b[0m\u001b[31m\n",
            "\u001b[0m\u001b[31mERROR: Could not find a version that satisfies the requirement langchain.chains (from versions: none)\u001b[0m\u001b[31m\n",
            "\u001b[0m\u001b[31mERROR: No matching distribution found for langchain.chains\u001b[0m\u001b[31m\n",
            "\u001b[0m\u001b[31mERROR: Could not find a version that satisfies the requirement langchain.memory (from versions: none)\u001b[0m\u001b[31m\n",
            "\u001b[0m\u001b[31mERROR: No matching distribution found for langchain.memory\u001b[0m\u001b[31m\n",
            "\u001b[0mRequirement already satisfied: langgraph in /usr/local/lib/python3.10/dist-packages (0.2.4)\n",
            "Requirement already satisfied: langchain-core<0.3,>=0.2.27 in /usr/local/lib/python3.10/dist-packages (from langgraph) (0.2.33)\n",
            "Requirement already satisfied: langgraph-checkpoint<2.0.0,>=1.0.2 in /usr/local/lib/python3.10/dist-packages (from langgraph) (1.0.3)\n",
            "Requirement already satisfied: PyYAML>=5.3 in /usr/local/lib/python3.10/dist-packages (from langchain-core<0.3,>=0.2.27->langgraph) (6.0.2)\n",
            "Requirement already satisfied: jsonpatch<2.0,>=1.33 in /usr/local/lib/python3.10/dist-packages (from langchain-core<0.3,>=0.2.27->langgraph) (1.33)\n",
            "Requirement already satisfied: langsmith<0.2.0,>=0.1.75 in /usr/local/lib/python3.10/dist-packages (from langchain-core<0.3,>=0.2.27->langgraph) (0.1.99)\n",
            "Requirement already satisfied: packaging<25,>=23.2 in /usr/local/lib/python3.10/dist-packages (from langchain-core<0.3,>=0.2.27->langgraph) (24.1)\n",
            "Requirement already satisfied: pydantic<3,>=1 in /usr/local/lib/python3.10/dist-packages (from langchain-core<0.3,>=0.2.27->langgraph) (2.8.2)\n",
            "Requirement already satisfied: tenacity!=8.4.0,<9.0.0,>=8.1.0 in /usr/local/lib/python3.10/dist-packages (from langchain-core<0.3,>=0.2.27->langgraph) (8.5.0)\n",
            "Requirement already satisfied: typing-extensions>=4.7 in /usr/local/lib/python3.10/dist-packages (from langchain-core<0.3,>=0.2.27->langgraph) (4.12.2)\n",
            "Requirement already satisfied: jsonpointer>=1.9 in /usr/local/lib/python3.10/dist-packages (from jsonpatch<2.0,>=1.33->langchain-core<0.3,>=0.2.27->langgraph) (3.0.0)\n",
            "Requirement already satisfied: orjson<4.0.0,>=3.9.14 in /usr/local/lib/python3.10/dist-packages (from langsmith<0.2.0,>=0.1.75->langchain-core<0.3,>=0.2.27->langgraph) (3.10.7)\n",
            "Requirement already satisfied: requests<3,>=2 in /usr/local/lib/python3.10/dist-packages (from langsmith<0.2.0,>=0.1.75->langchain-core<0.3,>=0.2.27->langgraph) (2.32.3)\n",
            "Requirement already satisfied: annotated-types>=0.4.0 in /usr/local/lib/python3.10/dist-packages (from pydantic<3,>=1->langchain-core<0.3,>=0.2.27->langgraph) (0.7.0)\n",
            "Requirement already satisfied: pydantic-core==2.20.1 in /usr/local/lib/python3.10/dist-packages (from pydantic<3,>=1->langchain-core<0.3,>=0.2.27->langgraph) (2.20.1)\n",
            "Requirement already satisfied: charset-normalizer<4,>=2 in /usr/local/lib/python3.10/dist-packages (from requests<3,>=2->langsmith<0.2.0,>=0.1.75->langchain-core<0.3,>=0.2.27->langgraph) (3.3.2)\n",
            "Requirement already satisfied: idna<4,>=2.5 in /usr/local/lib/python3.10/dist-packages (from requests<3,>=2->langsmith<0.2.0,>=0.1.75->langchain-core<0.3,>=0.2.27->langgraph) (3.7)\n",
            "Requirement already satisfied: urllib3<3,>=1.21.1 in /usr/local/lib/python3.10/dist-packages (from requests<3,>=2->langsmith<0.2.0,>=0.1.75->langchain-core<0.3,>=0.2.27->langgraph) (2.0.7)\n",
            "Requirement already satisfied: certifi>=2017.4.17 in /usr/local/lib/python3.10/dist-packages (from requests<3,>=2->langsmith<0.2.0,>=0.1.75->langchain-core<0.3,>=0.2.27->langgraph) (2024.7.4)\n",
            "Collecting langchain_community\n",
            "  Downloading langchain_community-0.2.12-py3-none-any.whl.metadata (2.7 kB)\n",
            "Requirement already satisfied: PyYAML>=5.3 in /usr/local/lib/python3.10/dist-packages (from langchain_community) (6.0.2)\n",
            "Requirement already satisfied: SQLAlchemy<3,>=1.4 in /usr/local/lib/python3.10/dist-packages (from langchain_community) (2.0.32)\n",
            "Requirement already satisfied: aiohttp<4.0.0,>=3.8.3 in /usr/local/lib/python3.10/dist-packages (from langchain_community) (3.10.3)\n",
            "Collecting dataclasses-json<0.7,>=0.5.7 (from langchain_community)\n",
            "  Downloading dataclasses_json-0.6.7-py3-none-any.whl.metadata (25 kB)\n",
            "Requirement already satisfied: langchain<0.3.0,>=0.2.13 in /usr/local/lib/python3.10/dist-packages (from langchain_community) (0.2.14)\n",
            "Requirement already satisfied: langchain-core<0.3.0,>=0.2.30 in /usr/local/lib/python3.10/dist-packages (from langchain_community) (0.2.33)\n",
            "Requirement already satisfied: langsmith<0.2.0,>=0.1.0 in /usr/local/lib/python3.10/dist-packages (from langchain_community) (0.1.99)\n",
            "Requirement already satisfied: numpy<2,>=1 in /usr/local/lib/python3.10/dist-packages (from langchain_community) (1.26.4)\n",
            "Requirement already satisfied: requests<3,>=2 in /usr/local/lib/python3.10/dist-packages (from langchain_community) (2.32.3)\n",
            "Requirement already satisfied: tenacity!=8.4.0,<9.0.0,>=8.1.0 in /usr/local/lib/python3.10/dist-packages (from langchain_community) (8.5.0)\n",
            "Requirement already satisfied: aiohappyeyeballs>=2.3.0 in /usr/local/lib/python3.10/dist-packages (from aiohttp<4.0.0,>=3.8.3->langchain_community) (2.3.5)\n",
            "Requirement already satisfied: aiosignal>=1.1.2 in /usr/local/lib/python3.10/dist-packages (from aiohttp<4.0.0,>=3.8.3->langchain_community) (1.3.1)\n",
            "Requirement already satisfied: attrs>=17.3.0 in /usr/local/lib/python3.10/dist-packages (from aiohttp<4.0.0,>=3.8.3->langchain_community) (24.2.0)\n",
            "Requirement already satisfied: frozenlist>=1.1.1 in /usr/local/lib/python3.10/dist-packages (from aiohttp<4.0.0,>=3.8.3->langchain_community) (1.4.1)\n",
            "Requirement already satisfied: multidict<7.0,>=4.5 in /usr/local/lib/python3.10/dist-packages (from aiohttp<4.0.0,>=3.8.3->langchain_community) (6.0.5)\n",
            "Requirement already satisfied: yarl<2.0,>=1.0 in /usr/local/lib/python3.10/dist-packages (from aiohttp<4.0.0,>=3.8.3->langchain_community) (1.9.4)\n",
            "Requirement already satisfied: async-timeout<5.0,>=4.0 in /usr/local/lib/python3.10/dist-packages (from aiohttp<4.0.0,>=3.8.3->langchain_community) (4.0.3)\n",
            "Collecting marshmallow<4.0.0,>=3.18.0 (from dataclasses-json<0.7,>=0.5.7->langchain_community)\n",
            "  Downloading marshmallow-3.21.3-py3-none-any.whl.metadata (7.1 kB)\n",
            "Collecting typing-inspect<1,>=0.4.0 (from dataclasses-json<0.7,>=0.5.7->langchain_community)\n",
            "  Downloading typing_inspect-0.9.0-py3-none-any.whl.metadata (1.5 kB)\n",
            "Requirement already satisfied: langchain-text-splitters<0.3.0,>=0.2.0 in /usr/local/lib/python3.10/dist-packages (from langchain<0.3.0,>=0.2.13->langchain_community) (0.2.2)\n",
            "Requirement already satisfied: pydantic<3,>=1 in /usr/local/lib/python3.10/dist-packages (from langchain<0.3.0,>=0.2.13->langchain_community) (2.8.2)\n",
            "Requirement already satisfied: jsonpatch<2.0,>=1.33 in /usr/local/lib/python3.10/dist-packages (from langchain-core<0.3.0,>=0.2.30->langchain_community) (1.33)\n",
            "Requirement already satisfied: packaging<25,>=23.2 in /usr/local/lib/python3.10/dist-packages (from langchain-core<0.3.0,>=0.2.30->langchain_community) (24.1)\n",
            "Requirement already satisfied: typing-extensions>=4.7 in /usr/local/lib/python3.10/dist-packages (from langchain-core<0.3.0,>=0.2.30->langchain_community) (4.12.2)\n",
            "Requirement already satisfied: orjson<4.0.0,>=3.9.14 in /usr/local/lib/python3.10/dist-packages (from langsmith<0.2.0,>=0.1.0->langchain_community) (3.10.7)\n",
            "Requirement already satisfied: charset-normalizer<4,>=2 in /usr/local/lib/python3.10/dist-packages (from requests<3,>=2->langchain_community) (3.3.2)\n",
            "Requirement already satisfied: idna<4,>=2.5 in /usr/local/lib/python3.10/dist-packages (from requests<3,>=2->langchain_community) (3.7)\n",
            "Requirement already satisfied: urllib3<3,>=1.21.1 in /usr/local/lib/python3.10/dist-packages (from requests<3,>=2->langchain_community) (2.0.7)\n",
            "Requirement already satisfied: certifi>=2017.4.17 in /usr/local/lib/python3.10/dist-packages (from requests<3,>=2->langchain_community) (2024.7.4)\n",
            "Requirement already satisfied: greenlet!=0.4.17 in /usr/local/lib/python3.10/dist-packages (from SQLAlchemy<3,>=1.4->langchain_community) (3.0.3)\n",
            "Requirement already satisfied: jsonpointer>=1.9 in /usr/local/lib/python3.10/dist-packages (from jsonpatch<2.0,>=1.33->langchain-core<0.3.0,>=0.2.30->langchain_community) (3.0.0)\n",
            "Requirement already satisfied: annotated-types>=0.4.0 in /usr/local/lib/python3.10/dist-packages (from pydantic<3,>=1->langchain<0.3.0,>=0.2.13->langchain_community) (0.7.0)\n",
            "Requirement already satisfied: pydantic-core==2.20.1 in /usr/local/lib/python3.10/dist-packages (from pydantic<3,>=1->langchain<0.3.0,>=0.2.13->langchain_community) (2.20.1)\n",
            "Collecting mypy-extensions>=0.3.0 (from typing-inspect<1,>=0.4.0->dataclasses-json<0.7,>=0.5.7->langchain_community)\n",
            "  Downloading mypy_extensions-1.0.0-py3-none-any.whl.metadata (1.1 kB)\n",
            "Downloading langchain_community-0.2.12-py3-none-any.whl (2.3 MB)\n",
            "\u001b[2K   \u001b[90m━━━━━━━━━━━━━━━━━━━━━━━━━━━━━━━━━━━━━━━━\u001b[0m \u001b[32m2.3/2.3 MB\u001b[0m \u001b[31m30.7 MB/s\u001b[0m eta \u001b[36m0:00:00\u001b[0m\n",
            "\u001b[?25hDownloading dataclasses_json-0.6.7-py3-none-any.whl (28 kB)\n",
            "Downloading marshmallow-3.21.3-py3-none-any.whl (49 kB)\n",
            "\u001b[2K   \u001b[90m━━━━━━━━━━━━━━━━━━━━━━━━━━━━━━━━━━━━━━━━\u001b[0m \u001b[32m49.2/49.2 kB\u001b[0m \u001b[31m2.9 MB/s\u001b[0m eta \u001b[36m0:00:00\u001b[0m\n",
            "\u001b[?25hDownloading typing_inspect-0.9.0-py3-none-any.whl (8.8 kB)\n",
            "Downloading mypy_extensions-1.0.0-py3-none-any.whl (4.7 kB)\n",
            "Installing collected packages: mypy-extensions, marshmallow, typing-inspect, dataclasses-json, langchain_community\n",
            "Successfully installed dataclasses-json-0.6.7 langchain_community-0.2.12 marshmallow-3.21.3 mypy-extensions-1.0.0 typing-inspect-0.9.0\n",
            "Collecting langchain_experimental\n",
            "  Downloading langchain_experimental-0.0.64-py3-none-any.whl.metadata (1.7 kB)\n",
            "Requirement already satisfied: langchain-community<0.3.0,>=0.2.10 in /usr/local/lib/python3.10/dist-packages (from langchain_experimental) (0.2.12)\n",
            "Requirement already satisfied: langchain-core<0.3.0,>=0.2.27 in /usr/local/lib/python3.10/dist-packages (from langchain_experimental) (0.2.33)\n",
            "Requirement already satisfied: PyYAML>=5.3 in /usr/local/lib/python3.10/dist-packages (from langchain-community<0.3.0,>=0.2.10->langchain_experimental) (6.0.2)\n",
            "Requirement already satisfied: SQLAlchemy<3,>=1.4 in /usr/local/lib/python3.10/dist-packages (from langchain-community<0.3.0,>=0.2.10->langchain_experimental) (2.0.32)\n",
            "Requirement already satisfied: aiohttp<4.0.0,>=3.8.3 in /usr/local/lib/python3.10/dist-packages (from langchain-community<0.3.0,>=0.2.10->langchain_experimental) (3.10.3)\n",
            "Requirement already satisfied: dataclasses-json<0.7,>=0.5.7 in /usr/local/lib/python3.10/dist-packages (from langchain-community<0.3.0,>=0.2.10->langchain_experimental) (0.6.7)\n",
            "Requirement already satisfied: langchain<0.3.0,>=0.2.13 in /usr/local/lib/python3.10/dist-packages (from langchain-community<0.3.0,>=0.2.10->langchain_experimental) (0.2.14)\n",
            "Requirement already satisfied: langsmith<0.2.0,>=0.1.0 in /usr/local/lib/python3.10/dist-packages (from langchain-community<0.3.0,>=0.2.10->langchain_experimental) (0.1.99)\n",
            "Requirement already satisfied: numpy<2,>=1 in /usr/local/lib/python3.10/dist-packages (from langchain-community<0.3.0,>=0.2.10->langchain_experimental) (1.26.4)\n",
            "Requirement already satisfied: requests<3,>=2 in /usr/local/lib/python3.10/dist-packages (from langchain-community<0.3.0,>=0.2.10->langchain_experimental) (2.32.3)\n",
            "Requirement already satisfied: tenacity!=8.4.0,<9.0.0,>=8.1.0 in /usr/local/lib/python3.10/dist-packages (from langchain-community<0.3.0,>=0.2.10->langchain_experimental) (8.5.0)\n",
            "Requirement already satisfied: jsonpatch<2.0,>=1.33 in /usr/local/lib/python3.10/dist-packages (from langchain-core<0.3.0,>=0.2.27->langchain_experimental) (1.33)\n",
            "Requirement already satisfied: packaging<25,>=23.2 in /usr/local/lib/python3.10/dist-packages (from langchain-core<0.3.0,>=0.2.27->langchain_experimental) (24.1)\n",
            "Requirement already satisfied: pydantic<3,>=1 in /usr/local/lib/python3.10/dist-packages (from langchain-core<0.3.0,>=0.2.27->langchain_experimental) (2.8.2)\n",
            "Requirement already satisfied: typing-extensions>=4.7 in /usr/local/lib/python3.10/dist-packages (from langchain-core<0.3.0,>=0.2.27->langchain_experimental) (4.12.2)\n",
            "Requirement already satisfied: aiohappyeyeballs>=2.3.0 in /usr/local/lib/python3.10/dist-packages (from aiohttp<4.0.0,>=3.8.3->langchain-community<0.3.0,>=0.2.10->langchain_experimental) (2.3.5)\n",
            "Requirement already satisfied: aiosignal>=1.1.2 in /usr/local/lib/python3.10/dist-packages (from aiohttp<4.0.0,>=3.8.3->langchain-community<0.3.0,>=0.2.10->langchain_experimental) (1.3.1)\n",
            "Requirement already satisfied: attrs>=17.3.0 in /usr/local/lib/python3.10/dist-packages (from aiohttp<4.0.0,>=3.8.3->langchain-community<0.3.0,>=0.2.10->langchain_experimental) (24.2.0)\n",
            "Requirement already satisfied: frozenlist>=1.1.1 in /usr/local/lib/python3.10/dist-packages (from aiohttp<4.0.0,>=3.8.3->langchain-community<0.3.0,>=0.2.10->langchain_experimental) (1.4.1)\n",
            "Requirement already satisfied: multidict<7.0,>=4.5 in /usr/local/lib/python3.10/dist-packages (from aiohttp<4.0.0,>=3.8.3->langchain-community<0.3.0,>=0.2.10->langchain_experimental) (6.0.5)\n",
            "Requirement already satisfied: yarl<2.0,>=1.0 in /usr/local/lib/python3.10/dist-packages (from aiohttp<4.0.0,>=3.8.3->langchain-community<0.3.0,>=0.2.10->langchain_experimental) (1.9.4)\n",
            "Requirement already satisfied: async-timeout<5.0,>=4.0 in /usr/local/lib/python3.10/dist-packages (from aiohttp<4.0.0,>=3.8.3->langchain-community<0.3.0,>=0.2.10->langchain_experimental) (4.0.3)\n",
            "Requirement already satisfied: marshmallow<4.0.0,>=3.18.0 in /usr/local/lib/python3.10/dist-packages (from dataclasses-json<0.7,>=0.5.7->langchain-community<0.3.0,>=0.2.10->langchain_experimental) (3.21.3)\n",
            "Requirement already satisfied: typing-inspect<1,>=0.4.0 in /usr/local/lib/python3.10/dist-packages (from dataclasses-json<0.7,>=0.5.7->langchain-community<0.3.0,>=0.2.10->langchain_experimental) (0.9.0)\n",
            "Requirement already satisfied: jsonpointer>=1.9 in /usr/local/lib/python3.10/dist-packages (from jsonpatch<2.0,>=1.33->langchain-core<0.3.0,>=0.2.27->langchain_experimental) (3.0.0)\n",
            "Requirement already satisfied: langchain-text-splitters<0.3.0,>=0.2.0 in /usr/local/lib/python3.10/dist-packages (from langchain<0.3.0,>=0.2.13->langchain-community<0.3.0,>=0.2.10->langchain_experimental) (0.2.2)\n",
            "Requirement already satisfied: orjson<4.0.0,>=3.9.14 in /usr/local/lib/python3.10/dist-packages (from langsmith<0.2.0,>=0.1.0->langchain-community<0.3.0,>=0.2.10->langchain_experimental) (3.10.7)\n",
            "Requirement already satisfied: annotated-types>=0.4.0 in /usr/local/lib/python3.10/dist-packages (from pydantic<3,>=1->langchain-core<0.3.0,>=0.2.27->langchain_experimental) (0.7.0)\n",
            "Requirement already satisfied: pydantic-core==2.20.1 in /usr/local/lib/python3.10/dist-packages (from pydantic<3,>=1->langchain-core<0.3.0,>=0.2.27->langchain_experimental) (2.20.1)\n",
            "Requirement already satisfied: charset-normalizer<4,>=2 in /usr/local/lib/python3.10/dist-packages (from requests<3,>=2->langchain-community<0.3.0,>=0.2.10->langchain_experimental) (3.3.2)\n",
            "Requirement already satisfied: idna<4,>=2.5 in /usr/local/lib/python3.10/dist-packages (from requests<3,>=2->langchain-community<0.3.0,>=0.2.10->langchain_experimental) (3.7)\n",
            "Requirement already satisfied: urllib3<3,>=1.21.1 in /usr/local/lib/python3.10/dist-packages (from requests<3,>=2->langchain-community<0.3.0,>=0.2.10->langchain_experimental) (2.0.7)\n",
            "Requirement already satisfied: certifi>=2017.4.17 in /usr/local/lib/python3.10/dist-packages (from requests<3,>=2->langchain-community<0.3.0,>=0.2.10->langchain_experimental) (2024.7.4)\n",
            "Requirement already satisfied: greenlet!=0.4.17 in /usr/local/lib/python3.10/dist-packages (from SQLAlchemy<3,>=1.4->langchain-community<0.3.0,>=0.2.10->langchain_experimental) (3.0.3)\n",
            "Requirement already satisfied: mypy-extensions>=0.3.0 in /usr/local/lib/python3.10/dist-packages (from typing-inspect<1,>=0.4.0->dataclasses-json<0.7,>=0.5.7->langchain-community<0.3.0,>=0.2.10->langchain_experimental) (1.0.0)\n",
            "Downloading langchain_experimental-0.0.64-py3-none-any.whl (204 kB)\n",
            "\u001b[2K   \u001b[90m━━━━━━━━━━━━━━━━━━━━━━━━━━━━━━━━━━━━━━━━\u001b[0m \u001b[32m204.3/204.3 kB\u001b[0m \u001b[31m3.6 MB/s\u001b[0m eta \u001b[36m0:00:00\u001b[0m\n",
            "\u001b[?25hInstalling collected packages: langchain_experimental\n",
            "Successfully installed langchain_experimental-0.0.64\n",
            "Requirement already satisfied: langchain in /usr/local/lib/python3.10/dist-packages (0.2.14)\n",
            "Requirement already satisfied: PyYAML>=5.3 in /usr/local/lib/python3.10/dist-packages (from langchain) (6.0.2)\n",
            "Requirement already satisfied: SQLAlchemy<3,>=1.4 in /usr/local/lib/python3.10/dist-packages (from langchain) (2.0.32)\n",
            "Requirement already satisfied: aiohttp<4.0.0,>=3.8.3 in /usr/local/lib/python3.10/dist-packages (from langchain) (3.10.3)\n",
            "Requirement already satisfied: async-timeout<5.0.0,>=4.0.0 in /usr/local/lib/python3.10/dist-packages (from langchain) (4.0.3)\n",
            "Requirement already satisfied: langchain-core<0.3.0,>=0.2.32 in /usr/local/lib/python3.10/dist-packages (from langchain) (0.2.33)\n",
            "Requirement already satisfied: langchain-text-splitters<0.3.0,>=0.2.0 in /usr/local/lib/python3.10/dist-packages (from langchain) (0.2.2)\n",
            "Requirement already satisfied: langsmith<0.2.0,>=0.1.17 in /usr/local/lib/python3.10/dist-packages (from langchain) (0.1.99)\n",
            "Requirement already satisfied: numpy<2,>=1 in /usr/local/lib/python3.10/dist-packages (from langchain) (1.26.4)\n",
            "Requirement already satisfied: pydantic<3,>=1 in /usr/local/lib/python3.10/dist-packages (from langchain) (2.8.2)\n",
            "Requirement already satisfied: requests<3,>=2 in /usr/local/lib/python3.10/dist-packages (from langchain) (2.32.3)\n",
            "Requirement already satisfied: tenacity!=8.4.0,<9.0.0,>=8.1.0 in /usr/local/lib/python3.10/dist-packages (from langchain) (8.5.0)\n",
            "Requirement already satisfied: aiohappyeyeballs>=2.3.0 in /usr/local/lib/python3.10/dist-packages (from aiohttp<4.0.0,>=3.8.3->langchain) (2.3.5)\n",
            "Requirement already satisfied: aiosignal>=1.1.2 in /usr/local/lib/python3.10/dist-packages (from aiohttp<4.0.0,>=3.8.3->langchain) (1.3.1)\n",
            "Requirement already satisfied: attrs>=17.3.0 in /usr/local/lib/python3.10/dist-packages (from aiohttp<4.0.0,>=3.8.3->langchain) (24.2.0)\n",
            "Requirement already satisfied: frozenlist>=1.1.1 in /usr/local/lib/python3.10/dist-packages (from aiohttp<4.0.0,>=3.8.3->langchain) (1.4.1)\n",
            "Requirement already satisfied: multidict<7.0,>=4.5 in /usr/local/lib/python3.10/dist-packages (from aiohttp<4.0.0,>=3.8.3->langchain) (6.0.5)\n",
            "Requirement already satisfied: yarl<2.0,>=1.0 in /usr/local/lib/python3.10/dist-packages (from aiohttp<4.0.0,>=3.8.3->langchain) (1.9.4)\n",
            "Requirement already satisfied: jsonpatch<2.0,>=1.33 in /usr/local/lib/python3.10/dist-packages (from langchain-core<0.3.0,>=0.2.32->langchain) (1.33)\n",
            "Requirement already satisfied: packaging<25,>=23.2 in /usr/local/lib/python3.10/dist-packages (from langchain-core<0.3.0,>=0.2.32->langchain) (24.1)\n",
            "Requirement already satisfied: typing-extensions>=4.7 in /usr/local/lib/python3.10/dist-packages (from langchain-core<0.3.0,>=0.2.32->langchain) (4.12.2)\n",
            "Requirement already satisfied: orjson<4.0.0,>=3.9.14 in /usr/local/lib/python3.10/dist-packages (from langsmith<0.2.0,>=0.1.17->langchain) (3.10.7)\n",
            "Requirement already satisfied: annotated-types>=0.4.0 in /usr/local/lib/python3.10/dist-packages (from pydantic<3,>=1->langchain) (0.7.0)\n",
            "Requirement already satisfied: pydantic-core==2.20.1 in /usr/local/lib/python3.10/dist-packages (from pydantic<3,>=1->langchain) (2.20.1)\n",
            "Requirement already satisfied: charset-normalizer<4,>=2 in /usr/local/lib/python3.10/dist-packages (from requests<3,>=2->langchain) (3.3.2)\n",
            "Requirement already satisfied: idna<4,>=2.5 in /usr/local/lib/python3.10/dist-packages (from requests<3,>=2->langchain) (3.7)\n",
            "Requirement already satisfied: urllib3<3,>=1.21.1 in /usr/local/lib/python3.10/dist-packages (from requests<3,>=2->langchain) (2.0.7)\n",
            "Requirement already satisfied: certifi>=2017.4.17 in /usr/local/lib/python3.10/dist-packages (from requests<3,>=2->langchain) (2024.7.4)\n",
            "Requirement already satisfied: greenlet!=0.4.17 in /usr/local/lib/python3.10/dist-packages (from SQLAlchemy<3,>=1.4->langchain) (3.0.3)\n",
            "Requirement already satisfied: jsonpointer>=1.9 in /usr/local/lib/python3.10/dist-packages (from jsonpatch<2.0,>=1.33->langchain-core<0.3.0,>=0.2.32->langchain) (3.0.0)\n",
            "Requirement already satisfied: langsmith in /usr/local/lib/python3.10/dist-packages (0.1.99)\n",
            "Requirement already satisfied: orjson<4.0.0,>=3.9.14 in /usr/local/lib/python3.10/dist-packages (from langsmith) (3.10.7)\n",
            "Requirement already satisfied: pydantic<3,>=1 in /usr/local/lib/python3.10/dist-packages (from langsmith) (2.8.2)\n",
            "Requirement already satisfied: requests<3,>=2 in /usr/local/lib/python3.10/dist-packages (from langsmith) (2.32.3)\n",
            "Requirement already satisfied: annotated-types>=0.4.0 in /usr/local/lib/python3.10/dist-packages (from pydantic<3,>=1->langsmith) (0.7.0)\n",
            "Requirement already satisfied: pydantic-core==2.20.1 in /usr/local/lib/python3.10/dist-packages (from pydantic<3,>=1->langsmith) (2.20.1)\n",
            "Requirement already satisfied: typing-extensions>=4.6.1 in /usr/local/lib/python3.10/dist-packages (from pydantic<3,>=1->langsmith) (4.12.2)\n",
            "Requirement already satisfied: charset-normalizer<4,>=2 in /usr/local/lib/python3.10/dist-packages (from requests<3,>=2->langsmith) (3.3.2)\n",
            "Requirement already satisfied: idna<4,>=2.5 in /usr/local/lib/python3.10/dist-packages (from requests<3,>=2->langsmith) (3.7)\n",
            "Requirement already satisfied: urllib3<3,>=1.21.1 in /usr/local/lib/python3.10/dist-packages (from requests<3,>=2->langsmith) (2.0.7)\n",
            "Requirement already satisfied: certifi>=2017.4.17 in /usr/local/lib/python3.10/dist-packages (from requests<3,>=2->langsmith) (2024.7.4)\n",
            "\u001b[31mERROR: Could not find a version that satisfies the requirement ollama_client (from versions: none)\u001b[0m\u001b[31m\n",
            "\u001b[0m\u001b[31mERROR: No matching distribution found for ollama_client\u001b[0m\u001b[31m\n",
            "\u001b[0m"
          ]
        }
      ],
      "source": [
        "!pip install langchain openai langgraph langsmith\n",
        "!pip install python-dotenv\n",
        "!pip install langchain.llms\n",
        "!pip install langchain.prompts\n",
        "!pip install langchain.chains\n",
        "!pip install langchain.memory\n",
        "!pip install langgraph\n",
        "!pip install langchain_community\n",
        "!pip install langchain_experimental\n",
        "!pip install --upgrade langchain\n",
        "!pip install --upgrade langsmith\n",
        "!pip install ollama_client"
      ]
    },
    {
      "cell_type": "code",
      "source": [
        "#Using Ollama\n",
        "!pip install ollama\n",
        "from ollama import Client\n",
        "llm = Client(host=<ng_rok_url>)\n",
        "#client = Client(host=,local_host>)\n",
        "response = llm.chat(model='llama3.1', messages=[\n",
        "  {\n",
        "    'role': 'user',\n",
        "    'content': 'Why is the sky blue?',\n",
        "  },\n",
        "])\n",
        "#ollama_url = \"https://1675-155-246-151-38.ngrok-free.app\"\n",
        "#client = OllamaClient(ollama_url)"
      ],
      "metadata": {
        "colab": {
          "base_uri": "https://localhost:8080/"
        },
        "id": "X5RTVRIo7KEp",
        "outputId": "86358df2-73ce-455f-c984-7ad082dcad6e"
      },
      "execution_count": null,
      "outputs": [
        {
          "output_type": "stream",
          "name": "stdout",
          "text": [
            "Requirement already satisfied: ollama in /usr/local/lib/python3.10/dist-packages (0.3.1)\n",
            "Requirement already satisfied: httpx<0.28.0,>=0.27.0 in /usr/local/lib/python3.10/dist-packages (from ollama) (0.27.0)\n",
            "Requirement already satisfied: anyio in /usr/local/lib/python3.10/dist-packages (from httpx<0.28.0,>=0.27.0->ollama) (3.7.1)\n",
            "Requirement already satisfied: certifi in /usr/local/lib/python3.10/dist-packages (from httpx<0.28.0,>=0.27.0->ollama) (2024.7.4)\n",
            "Requirement already satisfied: httpcore==1.* in /usr/local/lib/python3.10/dist-packages (from httpx<0.28.0,>=0.27.0->ollama) (1.0.5)\n",
            "Requirement already satisfied: idna in /usr/local/lib/python3.10/dist-packages (from httpx<0.28.0,>=0.27.0->ollama) (3.7)\n",
            "Requirement already satisfied: sniffio in /usr/local/lib/python3.10/dist-packages (from httpx<0.28.0,>=0.27.0->ollama) (1.3.1)\n",
            "Requirement already satisfied: h11<0.15,>=0.13 in /usr/local/lib/python3.10/dist-packages (from httpcore==1.*->httpx<0.28.0,>=0.27.0->ollama) (0.14.0)\n",
            "Requirement already satisfied: exceptiongroup in /usr/local/lib/python3.10/dist-packages (from anyio->httpx<0.28.0,>=0.27.0->ollama) (1.2.2)\n"
          ]
        }
      ]
    },
    {
      "cell_type": "code",
      "source": [
        "response['message']"
      ],
      "metadata": {
        "colab": {
          "base_uri": "https://localhost:8080/"
        },
        "id": "jp61ttEFEhMz",
        "outputId": "a2054c09-6649-4283-b2be-1bf8639f3d83"
      },
      "execution_count": null,
      "outputs": [
        {
          "output_type": "execute_result",
          "data": {
            "text/plain": [
              "{'role': 'assistant',\n",
              " 'content': \"The sky appears blue to us because of a phenomenon called Rayleigh scattering. Here's a simplified explanation:\\n\\n1. **Sunlight**: The sun emits white light, which contains all the colors of the visible spectrum (red, orange, yellow, green, blue, indigo, and violet).\\n2. **Atmosphere**: When this sunlight enters our atmosphere, it encounters tiny molecules of gases like nitrogen (N2) and oxygen (O2). These molecules are much smaller than the wavelength of light.\\n3. **Scattering**: As the sunlight travels through the atmosphere, these gas molecules scatter the light in all directions. This scattering effect is more pronounced for shorter wavelengths (like blue and violet) than for longer wavelengths (like red and orange).\\n4. **Blue dominance**: Since the blue light is scattered more efficiently than other colors, it reaches our eyes from all directions, making the sky appear blue.\\n\\nIn essence, the blue color of the sky is a result of the way we perceive the scattered sunlight in our atmosphere. This phenomenon is named after Lord Rayleigh, who first described the process of scattering in the late 19th century.\\n\\nWould you like to know more about the science behind this?\"}"
            ]
          },
          "metadata": {},
          "execution_count": 44
        }
      ]
    },
    {
      "cell_type": "code",
      "source": [],
      "metadata": {
        "colab": {
          "base_uri": "https://localhost:8080/"
        },
        "id": "HmLuv-b1D13K",
        "outputId": "651102f8-7988-4527-b6c4-0186672f49b5"
      },
      "execution_count": null,
      "outputs": [
        {
          "output_type": "stream",
          "name": "stdout",
          "text": [
            "\u001b[31mERROR: XMLRPC request failed [code: -32500]\n",
            "RuntimeError: PyPI no longer supports 'pip search' (or XML-RPC search). Please use https://pypi.org/search (via a browser) instead. See https://warehouse.pypa.io/api-reference/xml-rpc.html#deprecated-methods for more information.\u001b[0m\u001b[31m\n",
            "\u001b[0m"
          ]
        }
      ]
    },
    {
      "cell_type": "code",
      "execution_count": null,
      "metadata": {
        "id": "C9wJhrOKnSjx"
      },
      "outputs": [],
      "source": [
        "#Libraries\n",
        "\n",
        "from langchain.llms import OpenAI\n",
        "from langchain.prompts import PromptTemplate\n",
        "from langchain.chains import LLMChain\n",
        "from langchain.memory import ConversationBufferMemory\n",
        "from langgraph.graph import Graph\n",
        "import os\n",
        "from langchain.smith import RunEvalConfig, run_on_dataset\n",
        "from langsmith import Client\n",
        "from langchain.callbacks.tracers import LangChainTracer\n",
        "\n"
      ]
    },
    {
      "cell_type": "code",
      "execution_count": null,
      "metadata": {
        "id": "gtErGzKGkIHY"
      },
      "outputs": [],
      "source": [
        "#Enviroment\n",
        "\n",
        "os.environ[\"LANGCHAIN_TRACING_V2\"] = \"true\"\n",
        "os.environ[\"LANGCHAIN_ENDPOINT\"] = \"https://api.smith.langchain.com\"\n",
        "os.environ[\"LANGCHAIN_API_KEY\"] = \"<langsmith_key>\"\n",
        "os.environ[\"OPENAI_API_KEY\"] = \"<openai_key\""
      ]
    },
    {
      "cell_type": "code",
      "execution_count": null,
      "metadata": {
        "id": "2u844PNVeNXk"
      },
      "outputs": [],
      "source": [
        "summary_config = [ { \"Current Summary\": \"First Message\", \"Prompt\": \"Hello, I'm PsyOzen AI. How can I help you today?\", \"Text\": \"Hi, I'm Tom. My wife Emma and I are seriously considering divorce after 15 years of marriage. We're both at our wit's end.\", \"New Summary\": \"Tom and his wife Emma are contemplating divorce after 15 years of marriage. The situation appears dire.\" }, { \"Current Summary\": \"Tom and his wife Emma are contemplating divorce after 15 years of marriage. The situation appears dire.\", \"Prompt\": \"I understand you're going through a difficult time, Tom. We will focus on how our thoughts affect our feelings and behaviors. Can you identify a specific situation recently that led to conflict between you and Emma?\", \"Text\": \"Last night, Emma asked me about my day at work. I gave a short answer because I was tired. She then said, 'You never want to talk to me anymore.' I felt attacked and just walked away. We ended up not speaking for the rest of the evening.\", \"New Summary\": \"Tom describes a recent conflict where his short response to Emma's question about his day led to her expressing frustration about his communication. Tom felt attacked and withdrew, resulting in an evening of silence. This situation demonstrates negative thought patterns and behaviors that CBT can address.\" }, { \"Current Summary\": \"Tom describes a recent conflict where his short response to Emma's question about his day led to her expressing frustration about his communication. Tom felt attacked and withdrew, resulting in an evening of silence. This situation demonstrates negative thought patterns and behaviors that CBT can address.\", \"Prompt\": \"Thank you for sharing that, Tom. Let's break this down. What thoughts went through your mind when Emma said, 'You never want to talk to me anymore'?\", \"Text\": \"I thought, 'She's always criticizing me. Nothing I do is ever good enough for her. She doesn't understand how hard I work.' It made me feel angry and unappreciated.\", \"New Summary\": \"Tom's automatic thoughts in response to Emma's comment include beliefs about constant criticism, inadequacy, and lack of understanding. These thoughts led to feelings of anger and being unappreciated, resulting in withdrawal behavior. This cognitive pattern is a key focus for CBT intervention.\" }, { \"Current Summary\": \"Tom's automatic thoughts in response to Emma's comment include beliefs about constant criticism, inadequacy, and lack of understanding. These thoughts led to feelings of anger and being unappreciated, resulting in withdrawal behavior. This cognitive pattern is a key focus for CBT intervention.\", \"Prompt\": \"I see. Now, let's examine these thoughts. Are they factually true? Are there any exceptions to 'She's always criticizing me' or 'Nothing I do is ever good enough'?\", \"Text\": \"Well, when you put it that way... I guess she does compliment me sometimes, especially about how I am with the kids. And she was supportive when I got that promotion last year. Maybe 'always' and 'nothing' are too strong.\", \"New Summary\": \"Through CBT questioning, Tom recognizes that his automatic thoughts contain cognitive distortions, specifically overgeneralization. He acknowledges exceptions to his beliefs about constant criticism and inadequacy. This realization opens the door for cognitive restructuring and behavior modification.\" } ]\n",
        "\n",
        "\n",
        "response_config = [ { 'Current Summary': \"Tom and his wife Emma are contemplating divorce after 15 years of marriage. The situation appears critical and requires CBT intervention.\", 'Text': \"Hi, I'm Tom. My wife Emma and I are seriously considering divorce after 15 years of marriage. We're both at our wit's end.\", 'Response': \"I understand you're going through a difficult time, Tom. We will focus on how our thoughts affect our feelings and behaviors. This approach can be very helpful in addressing relationship issues. To start, it would be helpful to examine a specific situation that led to conflict between you and Emma.\" }, { 'Current Summary': \"Tom describes a recent conflict where his short response to Emma's question about his day led to her expressing frustration about his communication. Tom felt attacked and withdrew, resulting in an evening of silence. This situation demonstrates negative thought patterns and behaviors that CBT can address.\", 'Text': \"Last night, Emma asked me about my day at work. I gave a short answer because I was tired. She then said, 'You never want to talk to me anymore.' I felt attacked and just walked away. We ended up not speaking for the rest of the evening.\", 'Response': \"Thank you for sharing that specific example. Let's break this down into thoughts, feelings, and behaviors. You've described your behavior (giving a short answer and walking away) and Emma's response. Now, let's focus on your thoughts. What went through your mind when Emma said, 'You never want to talk to me anymore'?\" }, { 'Current Summary': \"Tom's automatic thoughts in response to Emma's comment include beliefs about constant criticism, inadequacy, and lack of understanding. These thoughts led to feelings of anger and being unappreciated, resulting in withdrawal behavior. This cognitive pattern is a key focus for CBT intervention.\", 'Text': \"I thought, 'She's always criticizing me. Nothing I do is ever good enough for her. She doesn't understand how hard I work.' It made me feel angry and unappreciated.\", 'Response': \"Thank you for identifying those thoughts, Tom. We call these 'automatic thoughts' - they pop into our minds quickly and can strongly influence our emotions and actions. Now, let's examine these thoughts more closely. One technique we usually use to question the validity of our automatic thoughts. Are these thoughts factually true? Are there any exceptions to 'She's always criticizing me' or 'Nothing I do is ever good enough'?\" }, { 'Current Summary': \"Through CBT questioning, Tom recognizes that his automatic thoughts contain cognitive distortions, specifically overgeneralization. He acknowledges exceptions to his beliefs about constant criticism and inadequacy. This realization opens the door for cognitive restructuring and behavior modification.\", 'Text': \"Well, when you put it that way... I guess she does compliment me sometimes, especially about how I am with the kids. And she was supportive when I got that promotion last year. Maybe 'always' and 'nothing' are too strong.\", 'Response': \"Excellent observation, Tom. You've just engaged in what we call 'cognitive restructuring' - challenging and modifying unhelpful thought patterns. You've identified that words like 'always' and 'nothing' are overgeneralizations. This is a common cognitive distortion. By recognizing these exceptions, you're starting to see a more balanced view of your relationship with Emma. Now, let's think about how this realization might change your feelings and behaviors in similar situations in the future.\" } ]\n",
        "\n",
        "\n",
        "\n",
        "question_config = [ { 'Text': \"Hi, I'm Tom. My wife Emma and I are seriously considering divorce after 15 years of marriage. We're both at our wit's end.\", 'Response': \"I understand you're going through a difficult time, Tom. In situations like these, we focus on how our thoughts affect our feelings and behaviors. This approach can be very helpful in addressing relationship issues.\", 'Question': \"To start, can you identify a specific situation recently that led to conflict between you and Emma?\" }, { 'Text': \"Last night, Emma asked me about my day at work. I gave a short answer because I was tired. She then said, 'You never want to talk to me anymore.' I felt attacked and just walked away. We ended up not speaking for the rest of the evening.\", 'Response': \"Thank you for sharing that specific example, Tom. Let's break this down into thoughts, feelings, and behaviors. You've described your behavior (giving a short answer and walking away) and Emma's response.\", 'Question': \"Now, let's focus on your thoughts. What went through your mind when Emma said, 'You never want to talk to me anymore'?\" }, { 'Text': \"I thought, 'She's always criticizing me. Nothing I do is ever good enough for her. She doesn't understand how hard I work.' It made me feel angry and unappreciated.\", 'Response': \"Thank you for identifying those thoughts, Tom. We refer to these as 'automatic thoughts' - they pop into our minds quickly and can strongly influence our emotions and actions. Now, let's examine these thoughts more closely. One technique we use in situations like these is to question the validity of our automatic thoughts.\", 'Question': \"Are these thoughts factually true? Are there any exceptions to 'She's always criticizing me' or 'Nothing I do is ever good enough'?\" }, { 'Text': \"Well, when you put it that way... I guess she does compliment me sometimes, especially about how I am with the kids. And she was supportive when I got that promotion last year. Maybe 'always' and 'nothing' are too strong.\", 'Response': \"Excellent observation, Tom. You've just engaged in what we call 'cognitive restructuring' - challenging and modifying unhelpful thought patterns. You've identified that words like 'always' and 'nothing' are overgeneralizations. This is a common cognitive distortion. By recognizing these exceptions, you're starting to see a more balanced view of your relationship with Emma.\", 'Question': \"Now, let's think about how this realization might change your feelings and behaviors in similar situations in the future. How do you think you might respond differently next time Emma asks about your day?\" } ]\n",
        "\n",
        "\n",
        "\n",
        "recommendation_config = [ { \"User\": [\"Hi, I'm Tom. My wife Emma and I are seriously considering divorce after 15 years of marriage.\", \"Last night, Emma asked me about my day at work. I gave a short answer because I was tired. She then said, 'You never want to talk to me anymore.' I felt attacked and just walked away.\", \"I thought, 'She's always criticizing me. Nothing I do is ever good enough for her. She doesn't understand how hard I work.' It made me feel angry and unappreciated.\", \"Well, when you put it that way... I guess she does compliment me sometimes, especially about how I am with the kids. And she was supportive when I got that promotion last year. Maybe 'always' and 'nothing' are too strong.\", \"I could try to give a more detailed answer about my day, even if I'm tired. And maybe explain that I'm feeling drained instead of just walking away.\"], \"AI\": [\"I understand you're going through a difficult time, Tom. We will focus on how our thoughts affect our feelings and behaviors. Can you identify a specific situation recently that led to conflict between you and Emma?\", \"Thank you for sharing that example. What thoughts went through your mind when Emma said, 'You never want to talk to me anymore'?\", \"Let's examine these thoughts. Are they factually true? Are there any exceptions to 'She's always criticizing me' or 'Nothing I do is ever good enough'?\", \"Excellent observation, Tom. You've just engaged in cognitive restructuring. Now, let's think about how this realization might change your feelings and behaviors in similar situations in the future. How do you think you might respond differently next time Emma asks about your day?\"], \"Recommendation\": \"Tom, based on our discussion, here are some recommendations to help you apply these insights to your relationship:1. Thought Record: Keep a daily thought record. When you experience strong negative emotions, write down the situation, your automatic thoughts, and your emotional response. Then, challenge these thoughts and write down more balanced alternatives.2. Cognitive Restructuring Practice: Continue to question your automatic thoughts, especially those involving absolutes like 'always' or 'never'. Look for evidence that contradicts these thoughts.3. Behavioral Experiment: Test your beliefs. For instance, for one week, give more detailed responses about your day and express when you're feeling tired. Observe Emma's reactions and compare them to your predictions.4. Communication Skills Training: Practice using 'I' statements to express your feelings without blaming. For example, 'I feel overwhelmed when I come home from work' instead of 'You don't understand how hard I work'.5. Mindfulness Exercises: Incorporate mindfulness techniques to help you stay present and respond thoughtfully rather than react automatically in stressful situations.6. Positive Activity Scheduling: Plan and engage in activities you both enjoy. This can help create positive experiences and challenge the belief that 'nothing is ever good enough'.7. Gratitude Journal: Each day, write down one thing you appreciate about Emma. This can help balance negative thoughts and improve your overall perception of the relationship.8. Regular Check-ins: Schedule short, daily check-ins with Emma where you both share your thoughts and feelings. This can improve communication and challenge the belief that you 'never want to talk'.Remember, changing thought patterns and behaviors takes time and practice. Be patient with yourself and celebrate small improvements. If you find these techniques helpful, consider seeking a couples therapist who can guide you both through this process more comprehensively.\" } ]\n"
      ]
    },
    {
      "cell_type": "code",
      "execution_count": null,
      "metadata": {
        "id": "o4iUybtAtLGD"
      },
      "outputs": [],
      "source": [
        "summary_kb = \"\\n\".join([f\"Example {i+1}:\\nCurrent Summary: {item['Current Summary']}\\nPrompt: {item['Prompt']}\\nText: {item['Text']}\\nNew Summary: {item['New Summary']}\" for i, item in enumerate(summary_config)])\n",
        "response_kb = \"\\n\".join([f\"Example {i+1}:\\nCurrent Summary: {item['Current Summary']}\\nText: {item['Text']}\\nResponse: {item['Response']}\" for i, item in enumerate(response_config)])\n",
        "question_kb = \"\\n\".join([f\"Example {i+1}:\\nText: {item['Text']}\\nResponse: {item['Response']}\\nQuestion: {item['Question']}\" for i, item in enumerate(question_config)])"
      ]
    },
    {
      "cell_type": "code",
      "execution_count": null,
      "metadata": {
        "id": "swcVm-Nau6bo"
      },
      "outputs": [],
      "source": [
        "summary_prompt = PromptTemplate(\n",
        "    input_variables=[\"current_summary\", \"prompt\", \"text\"],\n",
        "    template=f\"Use the following examples as a guide to generate a new summary and pass it to response:\\n{summary_kb}.\\nCurrent Summary: {{current_summary}}\\nPrompt: {{prompt}}\\nText: {{text}}\\nNew Summary:\"\n",
        ")"
      ]
    },
    {
      "cell_type": "code",
      "execution_count": null,
      "metadata": {
        "id": "wdBPe4AzvWND"
      },
      "outputs": [],
      "source": [
        "response_prompt = PromptTemplate(\n",
        "    input_variables=[\"current_summary\", \"text\"],\n",
        "    template=f\"\"\"The following is a conversation with an AI therapist. The therapist is helpful, creative, clever, and very friendly. Use these examples as a guide:\n",
        "\n",
        "{response_kb}\n",
        "\n",
        "Now, generate a response for:\n",
        "Current Summary: {{current_summary}}\n",
        "Text: {{text}}\n",
        "Response:\"\"\"\n",
        ")"
      ]
    },
    {
      "cell_type": "code",
      "execution_count": null,
      "metadata": {
        "id": "xc3xpLP-vwps"
      },
      "outputs": [],
      "source": [
        "question_prompt = PromptTemplate(\n",
        "    input_variables=[\"text\", \"response\"],\n",
        "    template=f\"\"\"Use these examples as a guide to generate a follow-up question:\n",
        "\n",
        "{question_kb}\n",
        "\n",
        "Now, generate a question for:\n",
        "Text: {{text}}\n",
        "Response: {{response}}\n",
        "Question:\"\"\"\n",
        ")\n"
      ]
    },
    {
      "cell_type": "code",
      "execution_count": null,
      "metadata": {
        "id": "O8VrnJXptU4S"
      },
      "outputs": [],
      "source": [
        "#Prompt Template\n",
        "\n",
        "summary_prompt = PromptTemplate(\n",
        "    input_variables=[\"current_summary\", \"prompt\", \"text\"],\n",
        "    template=\"Current Summary: {current_summary}\\nPrompt: {prompt}\\nText: {text}\\nNew Summary:\"\n",
        ")\n",
        "\n",
        "response_prompt = PromptTemplate(\n",
        "    input_variables=[\"current_summary\", \"text\"],\n",
        "    template=\"The following is a conversation with an AI therapist. The therapist is helpful, creative, clever, and very friendly.\\nCurrent Summary: {current_summary}\\nText: {text}\\nResponse:\"\n",
        ")\n",
        "\n",
        "question_prompt = PromptTemplate(\n",
        "    input_variables=[\"text\", \"response\"],\n",
        "    template=\"Text: {text}\\nResponse: {response}\\nQuestion:\"\n",
        ")\n",
        "\n",
        "recommendation_prompt = PromptTemplate(\n",
        "    input_variables=[\"conversation\"],\n",
        "    template=\"Generate recommended next steps based on a therapy conversation.\\n\\n{conversation}\\nRecommendation:\"\n",
        ")"
      ]
    },
    {
      "cell_type": "code",
      "execution_count": null,
      "metadata": {
        "id": "-xgo3TabdITN"
      },
      "outputs": [],
      "source": [
        "#Create LLMChain\n",
        "from langchain.llms import Ollama\n",
        "\n",
        "#Open AI LLM\n",
        "#llm = OpenAI(temperature=0.7)\n",
        "\n",
        "#Ollma LLM\n",
        "llm = Ollama(model=\"llama3.1\", base_url=\"https://7436-155-246-151-38.ngrok-free.app\")\n",
        "client = Client()\n",
        "tracer = LangChainTracer(project_name=\"your_project_name\")\n",
        "\n",
        "\n",
        "#summary_chain = LLMChain(llm=llm, prompt=summary_prompt)\n",
        "#response_chain = LLMChain(llm=llm, prompt=response_prompt)\n",
        "#question_chain = LLMChain(llm=llm, prompt=question_prompt)\n",
        "#recommendation_chain = LLMChain(llm=llm, prompt=recommendation_prompt)\n",
        "\n",
        "## With LangSMith Tracer\n",
        "\n",
        "summary_chain = LLMChain(llm=llm, prompt=summary_prompt, callbacks=[tracer])\n",
        "response_chain = LLMChain(llm=llm, prompt=response_prompt, callbacks=[tracer])\n",
        "question_chain = LLMChain(llm=llm, prompt=question_prompt, callbacks=[tracer])\n",
        "recommendation_chain = LLMChain(llm=llm, prompt=recommendation_prompt, callbacks=[tracer])\n",
        "#"
      ]
    },
    {
      "cell_type": "code",
      "execution_count": null,
      "metadata": {
        "id": "s5Jrrf6mdmFh"
      },
      "outputs": [],
      "source": [
        "# Process function\n",
        "\n",
        "def process_input(state, input):\n",
        "    # Generate summary\n",
        "    summary = summary_chain.run(current_summary=state['summary'], prompt=state['last_response'], text=input)\n",
        "\n",
        "    # Generate response\n",
        "    response = response_chain.run(current_summary=summary, text=input)\n",
        "\n",
        "    # Generate question if needed\n",
        "    if not response.endswith('?'):\n",
        "        question = question_chain.run(text=input, response=response)\n",
        "        response += ' ' + question\n",
        "\n",
        "    # Update state\n",
        "    state['summary'] = summary\n",
        "    state['last_response'] = response\n",
        "    state['conversation'].append(f\"User: {input}\")\n",
        "    state['conversation'].append(f\"AI: {response}\")\n",
        "\n",
        "    return state, response"
      ]
    },
    {
      "cell_type": "code",
      "execution_count": null,
      "metadata": {
        "id": "NJROrfrGdrt4"
      },
      "outputs": [],
      "source": [
        "#Condition function\n",
        "\n",
        "def should_continue(state):\n",
        "    # Logic to determine if the conversation should continue\n",
        "    return len(state['conversation']) < 10  # For example, continue for 10 turns\n",
        "\n"
      ]
    },
    {
      "cell_type": "code",
      "execution_count": null,
      "metadata": {
        "id": "IDrfMsymdvoa"
      },
      "outputs": [],
      "source": [
        "def generate_recommendation(state):\n",
        "    conversation_text = '\\n'.join(state['conversation'])\n",
        "    recommendation = recommendation_chain.run(conversation=conversation_text)\n",
        "    return recommendation"
      ]
    },
    {
      "cell_type": "code",
      "execution_count": null,
      "metadata": {
        "colab": {
          "base_uri": "https://localhost:8080/"
        },
        "id": "DAPXKTCEdxeq",
        "outputId": "ec1e4af4-5bcb-45bc-c372-0073c1d84676"
      },
      "outputs": [
        {
          "output_type": "stream",
          "name": "stdout",
          "text": [
            "Requirement already satisfied: langgraph in /usr/local/lib/python3.10/dist-packages (0.2.4)\n",
            "Requirement already satisfied: langchain-core<0.3,>=0.2.27 in /usr/local/lib/python3.10/dist-packages (from langgraph) (0.2.33)\n",
            "Requirement already satisfied: langgraph-checkpoint<2.0.0,>=1.0.2 in /usr/local/lib/python3.10/dist-packages (from langgraph) (1.0.3)\n",
            "Requirement already satisfied: PyYAML>=5.3 in /usr/local/lib/python3.10/dist-packages (from langchain-core<0.3,>=0.2.27->langgraph) (6.0.2)\n",
            "Requirement already satisfied: jsonpatch<2.0,>=1.33 in /usr/local/lib/python3.10/dist-packages (from langchain-core<0.3,>=0.2.27->langgraph) (1.33)\n",
            "Requirement already satisfied: langsmith<0.2.0,>=0.1.75 in /usr/local/lib/python3.10/dist-packages (from langchain-core<0.3,>=0.2.27->langgraph) (0.1.99)\n",
            "Requirement already satisfied: packaging<25,>=23.2 in /usr/local/lib/python3.10/dist-packages (from langchain-core<0.3,>=0.2.27->langgraph) (24.1)\n",
            "Requirement already satisfied: pydantic<3,>=1 in /usr/local/lib/python3.10/dist-packages (from langchain-core<0.3,>=0.2.27->langgraph) (2.8.2)\n",
            "Requirement already satisfied: tenacity!=8.4.0,<9.0.0,>=8.1.0 in /usr/local/lib/python3.10/dist-packages (from langchain-core<0.3,>=0.2.27->langgraph) (8.5.0)\n",
            "Requirement already satisfied: typing-extensions>=4.7 in /usr/local/lib/python3.10/dist-packages (from langchain-core<0.3,>=0.2.27->langgraph) (4.12.2)\n",
            "Requirement already satisfied: jsonpointer>=1.9 in /usr/local/lib/python3.10/dist-packages (from jsonpatch<2.0,>=1.33->langchain-core<0.3,>=0.2.27->langgraph) (3.0.0)\n",
            "Requirement already satisfied: orjson<4.0.0,>=3.9.14 in /usr/local/lib/python3.10/dist-packages (from langsmith<0.2.0,>=0.1.75->langchain-core<0.3,>=0.2.27->langgraph) (3.10.7)\n",
            "Requirement already satisfied: requests<3,>=2 in /usr/local/lib/python3.10/dist-packages (from langsmith<0.2.0,>=0.1.75->langchain-core<0.3,>=0.2.27->langgraph) (2.32.3)\n",
            "Requirement already satisfied: annotated-types>=0.4.0 in /usr/local/lib/python3.10/dist-packages (from pydantic<3,>=1->langchain-core<0.3,>=0.2.27->langgraph) (0.7.0)\n",
            "Requirement already satisfied: pydantic-core==2.20.1 in /usr/local/lib/python3.10/dist-packages (from pydantic<3,>=1->langchain-core<0.3,>=0.2.27->langgraph) (2.20.1)\n",
            "Requirement already satisfied: charset-normalizer<4,>=2 in /usr/local/lib/python3.10/dist-packages (from requests<3,>=2->langsmith<0.2.0,>=0.1.75->langchain-core<0.3,>=0.2.27->langgraph) (3.3.2)\n",
            "Requirement already satisfied: idna<4,>=2.5 in /usr/local/lib/python3.10/dist-packages (from requests<3,>=2->langsmith<0.2.0,>=0.1.75->langchain-core<0.3,>=0.2.27->langgraph) (3.7)\n",
            "Requirement already satisfied: urllib3<3,>=1.21.1 in /usr/local/lib/python3.10/dist-packages (from requests<3,>=2->langsmith<0.2.0,>=0.1.75->langchain-core<0.3,>=0.2.27->langgraph) (2.0.7)\n",
            "Requirement already satisfied: certifi>=2017.4.17 in /usr/local/lib/python3.10/dist-packages (from requests<3,>=2->langsmith<0.2.0,>=0.1.75->langchain-core<0.3,>=0.2.27->langgraph) (2024.7.4)\n"
          ]
        }
      ],
      "source": [
        "!pip install langgraph\n",
        "from langgraph.graph import StateGraph\n",
        "from typing_extensions import TypedDict\n",
        "# Define the graph\n",
        "\n",
        "# Define the state schema\n",
        "class ChatState(TypedDict):\n",
        "    summary: str\n",
        "    last_response: str\n",
        "    conversation: list\n",
        "\n",
        "\n",
        "\n",
        "workflow = StateGraph(state_schema=ChatState)\n",
        "\n",
        "workflow.add_node(\"process_input\", process_input)\n",
        "workflow.add_node(\"should_continue\", should_continue)\n",
        "workflow.add_node(\"generate_recommendation\", generate_recommendation)\n",
        "\n",
        "\n",
        "# Modify the 'should_continue' function to set the 'next_step'\n",
        "def should_continue(state):\n",
        "    if len(state['conversation']) < 10:\n",
        "        return \"process_input\"\n",
        "    else:\n",
        "        return \"generate_recommendation\"\n",
        "\n",
        "#Use add_edge_with_condition for branching\n",
        "workflow.set_entry_point(\"process_input\")\n",
        "workflow.add_edge(\"process_input\", \"should_continue\")\n",
        "workflow.add_conditional_edges(\n",
        "    \"should_continue\",\n",
        "    {\n",
        "        \"process_input\": process_input,\n",
        "        \"generate_recommendation\": generate_recommendation\n",
        "    }\n",
        ")\n",
        "\n",
        "workflow.set_finish_point(\"generate_recommendation\")\n",
        "#workflow.add_edge(\"process_input\", \"should_continue\")\n",
        "#workflow.add_edge(\"should_continue\", \"process_input\")\n",
        "#workflow.add_edge(\"should_continue\", \"generate_recommendation\")"
      ]
    },
    {
      "cell_type": "code",
      "execution_count": null,
      "metadata": {
        "id": "kAyfqdlLd1L2"
      },
      "outputs": [],
      "source": [
        "# Compile the graph\n",
        "app = workflow.compile()"
      ]
    },
    {
      "cell_type": "code",
      "execution_count": null,
      "metadata": {
        "colab": {
          "base_uri": "https://localhost:8080/",
          "height": 404
        },
        "id": "VZaPtoOsc0Fv",
        "outputId": "40bd80b9-a4f3-40f5-9c68-0c76c60165b3"
      },
      "outputs": [
        {
          "output_type": "display_data",
          "data": {
            "image/jpeg": "[encoded data removed]",
            "text/plain": [
              "<IPython.core.display.Image object>"
            ]
          },
          "metadata": {}
        }
      ],
      "source": [
        "from IPython.display import Image, display\n",
        "\n",
        "try:\n",
        "    display(Image(app.get_graph().draw_mermaid_png()))\n",
        "except Exception:\n",
        "    # This requires some extra dependencies and is optional\n",
        "    pass"
      ]
    },
    {
      "cell_type": "code",
      "execution_count": null,
      "metadata": {
        "colab": {
          "base_uri": "https://localhost:8080/",
          "height": 532
        },
        "id": "mAFUTuCad4An",
        "outputId": "55ee67b8-05cc-4dba-a534-652554b909d4"
      },
      "outputs": [
        {
          "output_type": "stream",
          "name": "stderr",
          "text": [
            "/usr/local/lib/python3.10/dist-packages/langchain_core/_api/deprecation.py:141: LangChainDeprecationWarning: The method `Chain.run` was deprecated in langchain 0.1.0 and will be removed in 1.0. Use invoke instead.\n",
            "  warn_deprecated(\n",
            "WARNING:langchain_core.tracers.core:Parent run b0c81ca5-25b6-45cc-aa11-406e67f9fb53 not found for run f9e7db84-755e-46a2-9275-cfc6c5da1247. Treating as a root run.\n",
            "WARNING:langchain_core.tracers.core:Parent run e079d40b-2ec4-421f-8ebb-c5496bd2de30 not found for run de562667-59a3-4d36-b3d5-b3867f492871. Treating as a root run.\n"
          ]
        },
        {
          "output_type": "stream",
          "name": "stdout",
          "text": [
            "AI: I'm so glad we're starting this conversation! It sounds like we have a bit of a miscommunication, though - you didn't actually share any text with me yet!\n",
            "\n",
            "No worries at all, my friend. Why don't we start fresh? You can paste the text that needs a summary, and I'll get creative and clever to help distill it down into a helpful summary for you. Or, if you'd like, I can even suggest some options or alternatives if you're not sure what kind of summary would be most useful.\n",
            "\n",
            "What do you say?\n"
          ]
        },
        {
          "output_type": "error",
          "ename": "KeyboardInterrupt",
          "evalue": "Interrupted by user",
          "traceback": [
            "\u001b[0;31m---------------------------------------------------------------------------\u001b[0m",
            "\u001b[0;31mKeyboardInterrupt\u001b[0m                         Traceback (most recent call last)",
            "\u001b[0;32m<ipython-input-62-6f00c48726f2>\u001b[0m in \u001b[0;36m<cell line: 24>\u001b[0;34m()\u001b[0m\n\u001b[1;32m     22\u001b[0m \u001b[0;31m# Start the conversation\u001b[0m\u001b[0;34m\u001b[0m\u001b[0;34m\u001b[0m\u001b[0m\n\u001b[1;32m     23\u001b[0m \u001b[0;31m#run_conversation(\"I've been feeling really sad lately.\")\u001b[0m\u001b[0;34m\u001b[0m\u001b[0;34m\u001b[0m\u001b[0m\n\u001b[0;32m---> 24\u001b[0;31m \u001b[0mrun_conversation\u001b[0m\u001b[0;34m(\u001b[0m\u001b[0;34m\"\"\u001b[0m\u001b[0;34m)\u001b[0m\u001b[0;34m\u001b[0m\u001b[0;34m\u001b[0m\u001b[0m\n\u001b[0m\u001b[1;32m     25\u001b[0m \u001b[0;34m\u001b[0m\u001b[0m\n\u001b[1;32m     26\u001b[0m \u001b[0;31m##Run the conversation(With logs)\u001b[0m\u001b[0;34m\u001b[0m\u001b[0;34m\u001b[0m\u001b[0m\n",
            "\u001b[0;32m<ipython-input-62-6f00c48726f2>\u001b[0m in \u001b[0;36mrun_conversation\u001b[0;34m(initial_input)\u001b[0m\n\u001b[1;32m     13\u001b[0m \u001b[0;34m\u001b[0m\u001b[0m\n\u001b[1;32m     14\u001b[0m     \u001b[0;32mwhile\u001b[0m \u001b[0mshould_continue\u001b[0m\u001b[0;34m(\u001b[0m\u001b[0mstate\u001b[0m\u001b[0;34m)\u001b[0m\u001b[0;34m:\u001b[0m\u001b[0;34m\u001b[0m\u001b[0;34m\u001b[0m\u001b[0m\n\u001b[0;32m---> 15\u001b[0;31m         \u001b[0muser_input\u001b[0m \u001b[0;34m=\u001b[0m \u001b[0minput\u001b[0m\u001b[0;34m(\u001b[0m\u001b[0;34m\"User: \"\u001b[0m\u001b[0;34m)\u001b[0m\u001b[0;34m\u001b[0m\u001b[0;34m\u001b[0m\u001b[0m\n\u001b[0m\u001b[1;32m     16\u001b[0m         \u001b[0mstate\u001b[0m\u001b[0;34m,\u001b[0m \u001b[0mresponse\u001b[0m \u001b[0;34m=\u001b[0m \u001b[0mprocess_input\u001b[0m\u001b[0;34m(\u001b[0m\u001b[0mstate\u001b[0m\u001b[0;34m,\u001b[0m \u001b[0muser_input\u001b[0m\u001b[0;34m)\u001b[0m\u001b[0;34m\u001b[0m\u001b[0;34m\u001b[0m\u001b[0m\n\u001b[1;32m     17\u001b[0m         \u001b[0mprint\u001b[0m\u001b[0;34m(\u001b[0m\u001b[0;34m\"AI:\"\u001b[0m\u001b[0;34m,\u001b[0m \u001b[0mresponse\u001b[0m\u001b[0;34m)\u001b[0m\u001b[0;34m\u001b[0m\u001b[0;34m\u001b[0m\u001b[0m\n",
            "\u001b[0;32m/usr/local/lib/python3.10/dist-packages/ipykernel/kernelbase.py\u001b[0m in \u001b[0;36mraw_input\u001b[0;34m(self, prompt)\u001b[0m\n\u001b[1;32m    849\u001b[0m                 \u001b[0;34m\"raw_input was called, but this frontend does not support input requests.\"\u001b[0m\u001b[0;34m\u001b[0m\u001b[0;34m\u001b[0m\u001b[0m\n\u001b[1;32m    850\u001b[0m             )\n\u001b[0;32m--> 851\u001b[0;31m         return self._input_request(str(prompt),\n\u001b[0m\u001b[1;32m    852\u001b[0m             \u001b[0mself\u001b[0m\u001b[0;34m.\u001b[0m\u001b[0m_parent_ident\u001b[0m\u001b[0;34m,\u001b[0m\u001b[0;34m\u001b[0m\u001b[0;34m\u001b[0m\u001b[0m\n\u001b[1;32m    853\u001b[0m             \u001b[0mself\u001b[0m\u001b[0;34m.\u001b[0m\u001b[0m_parent_header\u001b[0m\u001b[0;34m,\u001b[0m\u001b[0;34m\u001b[0m\u001b[0;34m\u001b[0m\u001b[0m\n",
            "\u001b[0;32m/usr/local/lib/python3.10/dist-packages/ipykernel/kernelbase.py\u001b[0m in \u001b[0;36m_input_request\u001b[0;34m(self, prompt, ident, parent, password)\u001b[0m\n\u001b[1;32m    893\u001b[0m             \u001b[0;32mexcept\u001b[0m \u001b[0mKeyboardInterrupt\u001b[0m\u001b[0;34m:\u001b[0m\u001b[0;34m\u001b[0m\u001b[0;34m\u001b[0m\u001b[0m\n\u001b[1;32m    894\u001b[0m                 \u001b[0;31m# re-raise KeyboardInterrupt, to truncate traceback\u001b[0m\u001b[0;34m\u001b[0m\u001b[0;34m\u001b[0m\u001b[0m\n\u001b[0;32m--> 895\u001b[0;31m                 \u001b[0;32mraise\u001b[0m \u001b[0mKeyboardInterrupt\u001b[0m\u001b[0;34m(\u001b[0m\u001b[0;34m\"Interrupted by user\"\u001b[0m\u001b[0;34m)\u001b[0m \u001b[0;32mfrom\u001b[0m \u001b[0;32mNone\u001b[0m\u001b[0;34m\u001b[0m\u001b[0;34m\u001b[0m\u001b[0m\n\u001b[0m\u001b[1;32m    896\u001b[0m             \u001b[0;32mexcept\u001b[0m \u001b[0mException\u001b[0m \u001b[0;32mas\u001b[0m \u001b[0me\u001b[0m\u001b[0;34m:\u001b[0m\u001b[0;34m\u001b[0m\u001b[0;34m\u001b[0m\u001b[0m\n\u001b[1;32m    897\u001b[0m                 \u001b[0mself\u001b[0m\u001b[0;34m.\u001b[0m\u001b[0mlog\u001b[0m\u001b[0;34m.\u001b[0m\u001b[0mwarning\u001b[0m\u001b[0;34m(\u001b[0m\u001b[0;34m\"Invalid Message:\"\u001b[0m\u001b[0;34m,\u001b[0m \u001b[0mexc_info\u001b[0m\u001b[0;34m=\u001b[0m\u001b[0;32mTrue\u001b[0m\u001b[0;34m)\u001b[0m\u001b[0;34m\u001b[0m\u001b[0;34m\u001b[0m\u001b[0m\n",
            "\u001b[0;31mKeyboardInterrupt\u001b[0m: Interrupted by user"
          ]
        }
      ],
      "source": [
        "#Run the conversation:\n",
        "\n",
        "initial_state = {\n",
        "    'summary': \"\",\n",
        "    'last_response': \"Hello, I'm PsyOzen AI. How can I help you today?\",\n",
        "    'conversation': []\n",
        "}\n",
        "\n",
        "def run_conversation(initial_input):\n",
        "    state = initial_state.copy()\n",
        "    state, response = process_input(state, initial_input)\n",
        "    print(\"AI:\", response)\n",
        "\n",
        "    while should_continue(state):\n",
        "        user_input = input(\"User: \")\n",
        "        state, response = process_input(state, user_input)\n",
        "        print(\"AI:\", response)\n",
        "\n",
        "    recommendation = generate_recommendation(state)\n",
        "    print(\"Recommendation:\", recommendation)\n",
        "\n",
        "# Start the conversation\n",
        "#run_conversation(\"I've been feeling really sad lately.\")\n",
        "run_conversation(\"\")\n",
        "\n",
        "##Run the conversation(With logs)\n",
        "#\n",
        "#from langchain.callbacks.tracers import ConsoleCallbackHandler\n",
        "#\n",
        "#def run_conversation(initial_input):\n",
        "#    with client.new_run(project_name=\"Therapy Chatbot\") as run:\n",
        "#        state = initial_state.copy()\n",
        "#        state, response = process_input(state, initial_input)\n",
        "#        print(\"AI:\", response)\n",
        "#        run.log(\"initial_response\", response)\n",
        "#\n",
        "#        while should_continue(state):\n",
        "#            user_input = input(\"User: \")\n",
        "#            state, response = process_input(state, user_input)\n",
        "#            print(\"AI:\", response)\n",
        "#            run.log(\"user_input\", user_input)\n",
        "#            run.log(\"ai_response\", response)\n",
        "#\n",
        "#        recommendation = generate_recommendation(state)\n",
        "#        print(\"Recommendation:\", recommendation)\n",
        "#        run.log(\"final_recommendation\", recommendation)\n",
        "#\n",
        "## Start the conversation\n",
        "#run_conversation(\"I've been feeling really sad lately.\")"
      ]
    },
    {
      "cell_type": "code",
      "execution_count": null,
      "metadata": {
        "id": "KvqzNuGIh5tC"
      },
      "outputs": [],
      "source": [
        "#Extra function\n",
        "\n",
        "#Log evalution\n",
        "\n",
        "from langchain.smith import RunEvalConfig\n",
        "\n",
        "# Create a dataset\n",
        "dataset_name = \"therapy_conversations\"\n",
        "client.create_dataset(dataset_name, description=\"Therapy conversation dataset\")\n",
        "\n",
        "# Add examples to the dataset\n",
        "examples = [\n",
        "    {\n",
        "        \"input\": \"I've been feeling really sad lately.\",\n",
        "        \"output\": \"I'm sorry to hear that you've been feeling sad. Can you tell me more about what's been going on?\"\n",
        "    },\n",
        "    {\n",
        "        \"input\": \"I'm having trouble sleeping at night.\",\n",
        "        \"output\": \"Difficulty sleeping can be quite frustrating. How long has this been going on, and have you noticed any patterns or triggers?\"\n",
        "    },\n",
        "    # Add more examples as needed\n",
        "]\n",
        "\n",
        "for example in examples:\n",
        "    client.create_example(\n",
        "        inputs={\"text\": example[\"input\"]},\n",
        "        outputs={\"response\": example[\"output\"]},\n",
        "        dataset_name=dataset_name\n",
        "    )\n",
        "4. Create an evaluation function:\n",
        "python\n",
        "Copy\n",
        "def evaluate_response(example, prediction):\n",
        "    # Implement your evaluation logic here\n",
        "    # For example, you could use a sentiment analysis model to check if the response is empathetic\n",
        "    # or use another LLM to rate the response\n",
        "    # For simplicity, let's just check if the response is not empty\n",
        "    return {\"score\": 1 if prediction[\"response\"].strip() else 0}\n",
        "\n",
        "eval_config = RunEvalConfig(\n",
        "    evaluators=[evaluate_response],\n",
        ")\n",
        "5. Run evaluation on the dataset:\n",
        "python\n",
        "Copy\n",
        "evaluation_results = run_on_dataset(\n",
        "    client=client,\n",
        "    dataset_name=dataset_name,\n",
        "    llm_or_chain_factory=response_chain,\n",
        "    evaluation=eval_config,\n",
        ")\n",
        "\n",
        "print(f\"Evaluation results: {evaluation_results}\")"
      ]
    }
  ],
  "metadata": {
    "accelerator": "GPU",
    "colab": {
      "gpuType": "T4",
      "provenance": []
    },
    "kernelspec": {
      "display_name": "Python 3",
      "name": "python3"
    },
    "language_info": {
      "name": "python"
    }
  },
  "nbformat": 4,
  "nbformat_minor": 0
}