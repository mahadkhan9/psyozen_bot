{
  "nbformat": 4,
  "nbformat_minor": 0,
  "metadata": {
    "colab": {
      "provenance": []
    },
    "kernelspec": {
      "name": "python3",
      "display_name": "Python 3"
    },
    "language_info": {
      "name": "python"
    }
  },
  "cells": [
    {
      "cell_type": "code",
      "execution_count": 21,
      "metadata": {
        "colab": {
          "base_uri": "https://localhost:8080/"
        },
        "id": "DmX4jNpxGbZw",
        "outputId": "fd320afd-abcc-4112-f352-4666bf9ae1fe"
      },
      "outputs": [
        {
          "output_type": "stream",
          "name": "stdout",
          "text": [
            "\u001b[31mERROR: Could not find a version that satisfies the requirement streamlit-audio-recorder (from versions: none)\u001b[0m\u001b[31m\n",
            "\u001b[0m\u001b[31mERROR: No matching distribution found for streamlit-audio-recorder\u001b[0m\u001b[31m\n",
            "\u001b[0mRequirement already satisfied: audio_recorder_streamlit in /usr/local/lib/python3.10/dist-packages (0.0.10)\n",
            "Requirement already satisfied: streamlit>=1.12.0 in /usr/local/lib/python3.10/dist-packages (from audio_recorder_streamlit) (1.37.1)\n",
            "Requirement already satisfied: altair<5 in /usr/local/lib/python3.10/dist-packages (from audio_recorder_streamlit) (4.2.2)\n",
            "Requirement already satisfied: entrypoints in /usr/local/lib/python3.10/dist-packages (from altair<5->audio_recorder_streamlit) (0.4)\n",
            "Requirement already satisfied: jinja2 in /usr/local/lib/python3.10/dist-packages (from altair<5->audio_recorder_streamlit) (3.1.4)\n",
            "Requirement already satisfied: jsonschema>=3.0 in /usr/local/lib/python3.10/dist-packages (from altair<5->audio_recorder_streamlit) (4.23.0)\n",
            "Requirement already satisfied: numpy in /usr/local/lib/python3.10/dist-packages (from altair<5->audio_recorder_streamlit) (1.26.4)\n",
            "Requirement already satisfied: pandas>=0.18 in /usr/local/lib/python3.10/dist-packages (from altair<5->audio_recorder_streamlit) (2.1.4)\n",
            "Requirement already satisfied: toolz in /usr/local/lib/python3.10/dist-packages (from altair<5->audio_recorder_streamlit) (0.12.1)\n",
            "Requirement already satisfied: blinker<2,>=1.0.0 in /usr/lib/python3/dist-packages (from streamlit>=1.12.0->audio_recorder_streamlit) (1.4)\n",
            "Requirement already satisfied: cachetools<6,>=4.0 in /usr/local/lib/python3.10/dist-packages (from streamlit>=1.12.0->audio_recorder_streamlit) (5.4.0)\n",
            "Requirement already satisfied: click<9,>=7.0 in /usr/local/lib/python3.10/dist-packages (from streamlit>=1.12.0->audio_recorder_streamlit) (8.1.7)\n",
            "Requirement already satisfied: packaging<25,>=20 in /usr/local/lib/python3.10/dist-packages (from streamlit>=1.12.0->audio_recorder_streamlit) (24.1)\n",
            "Requirement already satisfied: pillow<11,>=7.1.0 in /usr/local/lib/python3.10/dist-packages (from streamlit>=1.12.0->audio_recorder_streamlit) (9.4.0)\n",
            "Requirement already satisfied: protobuf<6,>=3.20 in /usr/local/lib/python3.10/dist-packages (from streamlit>=1.12.0->audio_recorder_streamlit) (3.20.3)\n",
            "Requirement already satisfied: pyarrow>=7.0 in /usr/local/lib/python3.10/dist-packages (from streamlit>=1.12.0->audio_recorder_streamlit) (14.0.2)\n",
            "Requirement already satisfied: requests<3,>=2.27 in /usr/local/lib/python3.10/dist-packages (from streamlit>=1.12.0->audio_recorder_streamlit) (2.32.3)\n",
            "Requirement already satisfied: rich<14,>=10.14.0 in /usr/local/lib/python3.10/dist-packages (from streamlit>=1.12.0->audio_recorder_streamlit) (13.7.1)\n",
            "Requirement already satisfied: tenacity<9,>=8.1.0 in /usr/local/lib/python3.10/dist-packages (from streamlit>=1.12.0->audio_recorder_streamlit) (8.5.0)\n",
            "Requirement already satisfied: toml<2,>=0.10.1 in /usr/local/lib/python3.10/dist-packages (from streamlit>=1.12.0->audio_recorder_streamlit) (0.10.2)\n",
            "Requirement already satisfied: typing-extensions<5,>=4.3.0 in /usr/local/lib/python3.10/dist-packages (from streamlit>=1.12.0->audio_recorder_streamlit) (4.12.2)\n",
            "Requirement already satisfied: gitpython!=3.1.19,<4,>=3.0.7 in /usr/local/lib/python3.10/dist-packages (from streamlit>=1.12.0->audio_recorder_streamlit) (3.1.43)\n",
            "Requirement already satisfied: pydeck<1,>=0.8.0b4 in /usr/local/lib/python3.10/dist-packages (from streamlit>=1.12.0->audio_recorder_streamlit) (0.9.1)\n",
            "Requirement already satisfied: tornado<7,>=6.0.3 in /usr/local/lib/python3.10/dist-packages (from streamlit>=1.12.0->audio_recorder_streamlit) (6.3.3)\n",
            "Requirement already satisfied: watchdog<5,>=2.1.5 in /usr/local/lib/python3.10/dist-packages (from streamlit>=1.12.0->audio_recorder_streamlit) (4.0.1)\n",
            "Requirement already satisfied: gitdb<5,>=4.0.1 in /usr/local/lib/python3.10/dist-packages (from gitpython!=3.1.19,<4,>=3.0.7->streamlit>=1.12.0->audio_recorder_streamlit) (4.0.11)\n",
            "Requirement already satisfied: attrs>=22.2.0 in /usr/local/lib/python3.10/dist-packages (from jsonschema>=3.0->altair<5->audio_recorder_streamlit) (24.2.0)\n",
            "Requirement already satisfied: jsonschema-specifications>=2023.03.6 in /usr/local/lib/python3.10/dist-packages (from jsonschema>=3.0->altair<5->audio_recorder_streamlit) (2023.12.1)\n",
            "Requirement already satisfied: referencing>=0.28.4 in /usr/local/lib/python3.10/dist-packages (from jsonschema>=3.0->altair<5->audio_recorder_streamlit) (0.35.1)\n",
            "Requirement already satisfied: rpds-py>=0.7.1 in /usr/local/lib/python3.10/dist-packages (from jsonschema>=3.0->altair<5->audio_recorder_streamlit) (0.20.0)\n",
            "Requirement already satisfied: python-dateutil>=2.8.2 in /usr/local/lib/python3.10/dist-packages (from pandas>=0.18->altair<5->audio_recorder_streamlit) (2.8.2)\n",
            "Requirement already satisfied: pytz>=2020.1 in /usr/local/lib/python3.10/dist-packages (from pandas>=0.18->altair<5->audio_recorder_streamlit) (2024.1)\n",
            "Requirement already satisfied: tzdata>=2022.1 in /usr/local/lib/python3.10/dist-packages (from pandas>=0.18->altair<5->audio_recorder_streamlit) (2024.1)\n",
            "Requirement already satisfied: MarkupSafe>=2.0 in /usr/local/lib/python3.10/dist-packages (from jinja2->altair<5->audio_recorder_streamlit) (2.1.5)\n",
            "Requirement already satisfied: charset-normalizer<4,>=2 in /usr/local/lib/python3.10/dist-packages (from requests<3,>=2.27->streamlit>=1.12.0->audio_recorder_streamlit) (3.3.2)\n",
            "Requirement already satisfied: idna<4,>=2.5 in /usr/local/lib/python3.10/dist-packages (from requests<3,>=2.27->streamlit>=1.12.0->audio_recorder_streamlit) (3.7)\n",
            "Requirement already satisfied: urllib3<3,>=1.21.1 in /usr/local/lib/python3.10/dist-packages (from requests<3,>=2.27->streamlit>=1.12.0->audio_recorder_streamlit) (2.0.7)\n",
            "Requirement already satisfied: certifi>=2017.4.17 in /usr/local/lib/python3.10/dist-packages (from requests<3,>=2.27->streamlit>=1.12.0->audio_recorder_streamlit) (2024.7.4)\n",
            "Requirement already satisfied: markdown-it-py>=2.2.0 in /usr/local/lib/python3.10/dist-packages (from rich<14,>=10.14.0->streamlit>=1.12.0->audio_recorder_streamlit) (3.0.0)\n",
            "Requirement already satisfied: pygments<3.0.0,>=2.13.0 in /usr/local/lib/python3.10/dist-packages (from rich<14,>=10.14.0->streamlit>=1.12.0->audio_recorder_streamlit) (2.16.1)\n",
            "Requirement already satisfied: smmap<6,>=3.0.1 in /usr/local/lib/python3.10/dist-packages (from gitdb<5,>=4.0.1->gitpython!=3.1.19,<4,>=3.0.7->streamlit>=1.12.0->audio_recorder_streamlit) (5.0.1)\n",
            "Requirement already satisfied: mdurl~=0.1 in /usr/local/lib/python3.10/dist-packages (from markdown-it-py>=2.2.0->rich<14,>=10.14.0->streamlit>=1.12.0->audio_recorder_streamlit) (0.1.2)\n",
            "Requirement already satisfied: six>=1.5 in /usr/local/lib/python3.10/dist-packages (from python-dateutil>=2.8.2->pandas>=0.18->altair<5->audio_recorder_streamlit) (1.16.0)\n",
            "Collecting gTTS\n",
            "  Downloading gTTS-2.5.2-py3-none-any.whl.metadata (4.1 kB)\n",
            "Requirement already satisfied: requests<3,>=2.27 in /usr/local/lib/python3.10/dist-packages (from gTTS) (2.32.3)\n",
            "Requirement already satisfied: click<8.2,>=7.1 in /usr/local/lib/python3.10/dist-packages (from gTTS) (8.1.7)\n",
            "Requirement already satisfied: charset-normalizer<4,>=2 in /usr/local/lib/python3.10/dist-packages (from requests<3,>=2.27->gTTS) (3.3.2)\n",
            "Requirement already satisfied: idna<4,>=2.5 in /usr/local/lib/python3.10/dist-packages (from requests<3,>=2.27->gTTS) (3.7)\n",
            "Requirement already satisfied: urllib3<3,>=1.21.1 in /usr/local/lib/python3.10/dist-packages (from requests<3,>=2.27->gTTS) (2.0.7)\n",
            "Requirement already satisfied: certifi>=2017.4.17 in /usr/local/lib/python3.10/dist-packages (from requests<3,>=2.27->gTTS) (2024.7.4)\n",
            "Downloading gTTS-2.5.2-py3-none-any.whl (29 kB)\n",
            "Installing collected packages: gTTS\n",
            "Successfully installed gTTS-2.5.2\n"
          ]
        }
      ],
      "source": [
        "!pip install -q streamlit openai-whisper\n",
        "!pip install -q streamlit-audio-recorder\n",
        "!pip install -q pyttsx3\n",
        "!pip install -q python-dotenv\n",
        "!pip install -q openai\n",
        "!pip install -q python-dotenv\n",
        "!pip install audio_recorder_streamlit\n",
        "!pip install gTTS"
      ]
    },
    {
      "cell_type": "code",
      "source": [
        "%%writefile audio.py\n",
        "import os\n",
        "import sys\n",
        "import datetime\n",
        "import openai\n",
        "import dotenv\n",
        "import streamlit as st\n",
        "from openai import OpenAI\n",
        "from audio_recorder_streamlit import audio_recorder\n",
        "import pyttsx3\n",
        "from io import BytesIO\n",
        "from gtts import gTTS\n",
        "\n",
        "# Load environment variables\n",
        "dotenv.load_dotenv()\n",
        "  # It's better to use environment variables for API keys\n",
        "\n",
        "# Initialize the OpenAI client\n",
        "client = OpenAI(api_key=os.getenv(\"OPENAI_API_KEY\")\n",
        "\n",
        "def transcribe(audio_file):\n",
        "    transcript = client.audio.transcriptions.create(\n",
        "        model=\"whisper-1\",\n",
        "        file=audio_file\n",
        "    )\n",
        "    return transcript.text\n",
        "\n",
        "def save_audio_file(audio_bytes, file_extension):\n",
        "    timestamp = datetime.datetime.now().strftime(\"%Y%m%d_%H%M%S\")\n",
        "    file_name = f\"audio_{timestamp}.{file_extension}\"\n",
        "    with open(file_name, \"wb\") as f:\n",
        "        f.write(audio_bytes)\n",
        "    return file_name\n",
        "\n",
        "#def text_to_speech(text):\n",
        "#    engine = pyttsx3.init()\n",
        "#    engine.save_to_file(text, 'response.mp3')\n",
        "#    engine.runAndWait()\n",
        "#\n",
        "\n",
        "\n",
        "def text_to_speech(text):\n",
        "  tts = gTTS(text=text, lang='en')\n",
        "  tts.save(\"response.mp3\")\n",
        "  # Play the audio as before\n",
        "\n",
        "def main():\n",
        "    st.title(\"Voice Chat Interface\")\n",
        "\n",
        "    # Initialize chat history\n",
        "    if \"messages\" not in st.session_state:\n",
        "        st.session_state.messages = []\n",
        "\n",
        "    # Display chat messages from history on app rerun\n",
        "    for message in st.session_state.messages:\n",
        "        with st.chat_message(message[\"role\"]):\n",
        "            st.markdown(message[\"content\"])\n",
        "\n",
        "    # Accept user input\n",
        "    if prompt := st.chat_input(\"What is your message?\"):\n",
        "        # Add user message to chat history\n",
        "        st.session_state.messages.append({\"role\": \"user\", \"content\": prompt})\n",
        "        # Display user message in chat message container\n",
        "        with st.chat_message(\"user\"):\n",
        "            st.markdown(prompt)\n",
        "\n",
        "    # Record audio input\n",
        "    audio_bytes = audio_recorder()\n",
        "    if audio_bytes:\n",
        "        st.audio(audio_bytes, format=\"audio/wav\")\n",
        "        file_name = save_audio_file(audio_bytes, \"wav\")\n",
        "\n",
        "        # Transcribe audio\n",
        "        with open(file_name, \"rb\") as audio_file:\n",
        "            transcript = transcribe(audio_file)\n",
        "\n",
        "        # Add transcribed message to chat history\n",
        "        st.session_state.messages.append({\"role\": \"user\", \"content\": transcript})\n",
        "        with st.chat_message(\"user\"):\n",
        "            st.markdown(transcript)\n",
        "\n",
        "    # Generate assistant response\n",
        "    if st.session_state.messages and st.session_state.messages[-1][\"role\"] != \"assistant\":\n",
        "        with st.chat_message(\"assistant\"):\n",
        "            response = client.chat.completions.create(\n",
        "                model=\"gpt-3.5-turbo\",\n",
        "                messages=[\n",
        "                    {\"role\": m[\"role\"], \"content\": m[\"content\"]}\n",
        "                    for m in st.session_state.messages\n",
        "                ]\n",
        "            )\n",
        "            response_text = response.choices[0].message.content\n",
        "            st.markdown(response_text)\n",
        "            st.session_state.messages.append({\"role\": \"assistant\", \"content\": response_text})\n",
        "\n",
        "            # Convert response to speech\n",
        "            text_to_speech(response_text)\n",
        "\n",
        "            # Play the response audio\n",
        "            audio_file = open('response.mp3', 'rb')\n",
        "            audio_bytes = audio_file.read()\n",
        "            st.audio(audio_bytes, format='audio/mp3')\n",
        "\n",
        "if __name__ == \"__main__\":\n",
        "    main()"
      ],
      "metadata": {
        "colab": {
          "base_uri": "https://localhost:8080/"
        },
        "id": "JvrWd0UJGeW2",
        "outputId": "12e187f7-4396-46d4-cace-b66d4d86d480"
      },
      "execution_count": 22,
      "outputs": [
        {
          "output_type": "stream",
          "name": "stdout",
          "text": [
            "Overwriting audio.py\n"
          ]
        }
      ]
    },
    {
      "cell_type": "code",
      "source": [
        "import urllib\n",
        "print(\"Password/Enpoint IP for localtunnel is:\",urllib.request.urlopen('https://ipv4.icanhazip.com').read().decode('utf8').strip(\"\\n\"))"
      ],
      "metadata": {
        "colab": {
          "base_uri": "https://localhost:8080/"
        },
        "id": "8vsqw0fPGqMn",
        "outputId": "9bcbedf2-01d1-414c-9655-b07769d2b054"
      },
      "execution_count": 23,
      "outputs": [
        {
          "output_type": "stream",
          "name": "stdout",
          "text": [
            "Password/Enpoint IP for localtunnel is: 34.106.254.38\n"
          ]
        }
      ]
    },
    {
      "cell_type": "code",
      "source": [
        "!npm install -g localtunnel"
      ],
      "metadata": {
        "colab": {
          "base_uri": "https://localhost:8080/"
        },
        "id": "kvyyOQxXGude",
        "outputId": "ae85be3a-5706-47f9-fc4d-45a2c48ce148"
      },
      "execution_count": 24,
      "outputs": [
        {
          "output_type": "stream",
          "name": "stdout",
          "text": [
            "\u001b[K\u001b[?25h\n",
            "changed 22 packages, and audited 23 packages in 1s\n",
            "\n",
            "3 packages are looking for funding\n",
            "  run `npm fund` for details\n",
            "\n",
            "1 \u001b[33m\u001b[1mmoderate\u001b[22m\u001b[39m severity vulnerability\n",
            "\n",
            "To address all issues (including breaking changes), run:\n",
            "  npm audit fix --force\n",
            "\n",
            "Run `npm audit` for details.\n"
          ]
        }
      ]
    },
    {
      "cell_type": "code",
      "source": [
        "!streamlit run audio.py & pgrep streamlit & npx localtunnel --port 8501"
      ],
      "metadata": {
        "colab": {
          "base_uri": "https://localhost:8080/"
        },
        "id": "ldNYPB6fGxv4",
        "outputId": "8c4ebb62-942b-4231-ffaa-50ad943d0540"
      },
      "execution_count": 25,
      "outputs": [
        {
          "output_type": "stream",
          "name": "stdout",
          "text": [
            "7222\n",
            "\n",
            "Collecting usage statistics. To deactivate, set browser.gatherUsageStats to false.\n",
            "\u001b[0m\n",
            "\u001b[0m\n",
            "\u001b[34m\u001b[1m  You can now view your Streamlit app in your browser.\u001b[0m\n",
            "\u001b[0m\n",
            "\u001b[34m  Local URL: \u001b[0m\u001b[1mhttp://localhost:8501\u001b[0m\n",
            "\u001b[34m  Network URL: \u001b[0m\u001b[1mhttp://172.28.0.12:8501\u001b[0m\n",
            "\u001b[34m  External URL: \u001b[0m\u001b[1mhttp://34.106.254.38:8501\u001b[0m\n",
            "\u001b[0m\n",
            "your url is: https://thick-ghosts-live.loca.lt\n",
            "2024-08-10 21:30:39.531 Uncaught app exception\n",
            "Traceback (most recent call last):\n",
            "  File \"/usr/local/lib/python3.10/dist-packages/streamlit/runtime/scriptrunner/exec_code.py\", line 85, in exec_func_with_error_handling\n",
            "    result = func()\n",
            "  File \"/usr/local/lib/python3.10/dist-packages/streamlit/runtime/scriptrunner/script_runner.py\", line 576, in code_to_exec\n",
            "    exec(code, module.__dict__)\n",
            "  File \"/content/audio.py\", line 104, in <module>\n",
            "    main()\n",
            "  File \"/content/audio.py\", line 74, in main\n",
            "    transcript = transcribe(audio_file)\n",
            "  File \"/content/audio.py\", line 21, in transcribe\n",
            "    transcript = client.audio.transcriptions.create(\n",
            "  File \"/usr/local/lib/python3.10/dist-packages/openai/resources/audio/transcriptions.py\", line 114, in create\n",
            "    return self._post(\n",
            "  File \"/usr/local/lib/python3.10/dist-packages/openai/_base_client.py\", line 1259, in post\n",
            "    return cast(ResponseT, self.request(cast_to, opts, stream=stream, stream_cls=stream_cls))\n",
            "  File \"/usr/local/lib/python3.10/dist-packages/openai/_base_client.py\", line 936, in request\n",
            "    return self._request(\n",
            "  File \"/usr/local/lib/python3.10/dist-packages/openai/_base_client.py\", line 1040, in _request\n",
            "    raise self._make_status_error_from_response(err.response) from None\n",
            "openai.BadRequestError: Error code: 400 - {'error': {'message': 'Audio file is too short. Minimum audio length is 0.1 seconds.', 'type': 'invalid_request_error', 'param': 'file', 'code': 'audio_too_short'}}\n",
            "\u001b[34m  Stopping...\u001b[0m\n",
            "^C\n"
          ]
        }
      ]
    }
  ]
}